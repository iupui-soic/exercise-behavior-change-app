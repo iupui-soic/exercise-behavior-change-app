{
  "nbformat": 4,
  "nbformat_minor": 0,
  "metadata": {
    "colab": {
      "provenance": []
    },
    "kernelspec": {
      "name": "python3",
      "display_name": "Python 3"
    },
    "language_info": {
      "name": "python"
    }
  },
  "cells": [
    {
      "cell_type": "markdown",
      "source": [
        "##Importing necessary libraries"
      ],
      "metadata": {
        "id": "MzLjYeYaPobU"
      }
    },
    {
      "cell_type": "code",
      "source": [
        "import pandas as pd\n",
        "from sklearn.model_selection import train_test_split\n",
        "from sklearn.preprocessing import OneHotEncoder, StandardScaler\n",
        "from sklearn.impute import SimpleImputer\n",
        "from sklearn.compose import ColumnTransformer\n",
        "from sklearn.pipeline import Pipeline\n",
        "from sklearn.ensemble import RandomForestClassifier\n",
        "from sklearn.metrics import accuracy_score, classification_report\n",
        "from sklearn.cluster import KMeans\n",
        "import matplotlib.pyplot as plt\n",
        "import seaborn as sns"
      ],
      "metadata": {
        "id": "o4xxfHYNAX2g"
      },
      "execution_count": 105,
      "outputs": []
    },
    {
      "cell_type": "markdown",
      "source": [
        "##Data loading and preprocessing"
      ],
      "metadata": {
        "id": "gWQMBpmOPsEg"
      }
    },
    {
      "cell_type": "code",
      "source": [
        "file_paths = ['CAD and exercise.csv','CAD and exercise1.csv', 'CAD and exercise2.csv', 'CTG Alzeimers disease and exercise.csv', 'CTG Alzheimer disease and physical activity.csv', 'CTG Alzheimer disease.csv', 'CTG CAD and phycial activity.csv','CTG Cardiac and exercise.csv','CTG Cardio and exercise.csv','CTG Cardio and physical activity.csv', 'CTG Cardiovascular disease and exercise.csv', 'CTG Cardiovascular disease and physical activity.csv','CTG Chronic kidney disease and exercise.csv','CTG Chronic kidney disease and physical activity.csv','CTG Diabetes and exercise.csv','CTG Diabetes and physical activity.csv','CTG Diabetes mellitus and exercise.csv','CTG Diabetes mellitus type 2 and exercise.csv','CTG Diabetes mellitus type 2 and physical activity.csv', 'CTG Kneeosteoarthritis and exercise.csv','CTG Kneeosteoarthritis and physical activity.csv','CTG Obesity and exercise.csv','CTG Obesity and physical activity.csv','CTG Osteoarthritis and exercise.csv','CTG Osteoarthritis and physical activity.csv','CTG PAD and exercise 1.csv','CTG PAD and exercise.csv','CTG PAD and physical activity.csv','CTG PAD and physical activity1.csv','CTG Physical activity and CAD.csv','CTG heart and exercise.csv','CTG stroke and exercise.csv','CTG stroke and exercise1.csv','CTG stroke and physical activity.csv','CTG stroke and physical activity1.csv','CTG studies diabetes and physical activity.csv']"
      ],
      "metadata": {
        "id": "0wnE26IFXNV9"
      },
      "execution_count": 106,
      "outputs": []
    },
    {
      "cell_type": "code",
      "source": [
        "\n",
        "clinical_trial_dataframes = [pd.read_csv(file) for file in file_paths]\n",
        "ct_data = pd.concat(clinical_trial_dataframes, ignore_index=True)"
      ],
      "metadata": {
        "id": "7ZqqHbGVXaws"
      },
      "execution_count": 107,
      "outputs": []
    },
    {
      "cell_type": "code",
      "source": [
        "# Drop irrelevant columns\n",
        "columns_to_drop = ['Study Title', 'Study URL', 'Acronym', 'Study Status',\n",
        "                   'Brief Summary', 'Study Results', 'Sponsor', 'Collaborators',\n",
        "                   'Phases', 'Funder Type', 'Study Type', 'Study Design', 'Start Date',\n",
        "                   'Primary Completion Date', 'Completion Date', 'First Posted', 'Results First Posted',\n",
        "                   'Last Update Posted', 'Locations', 'Study Documents']\n",
        "ct_data.drop(columns=columns_to_drop, inplace=True)"
      ],
      "metadata": {
        "id": "xBBK8AOxl5ys"
      },
      "execution_count": 108,
      "outputs": []
    },
    {
      "cell_type": "code",
      "source": [
        "ct_data.info()"
      ],
      "metadata": {
        "colab": {
          "base_uri": "https://localhost:8080/"
        },
        "id": "r756MbeqXecF",
        "outputId": "de1863cc-6dfe-4558-b72e-dda075f910d5"
      },
      "execution_count": 109,
      "outputs": [
        {
          "output_type": "stream",
          "name": "stdout",
          "text": [
            "<class 'pandas.core.frame.DataFrame'>\n",
            "RangeIndex: 1131 entries, 0 to 1130\n",
            "Data columns (total 17 columns):\n",
            " #   Column                      Non-Null Count  Dtype  \n",
            "---  ------                      --------------  -----  \n",
            " 0   NCT Number                  1080 non-null   object \n",
            " 1   Conditions                  1080 non-null   object \n",
            " 2   Interventions               1080 non-null   object \n",
            " 3   Primary Outcome Measures    1080 non-null   object \n",
            " 4   Secondary Outcome Measures  904 non-null    object \n",
            " 5   Other Outcome Measures      216 non-null    object \n",
            " 6   Sex                         1077 non-null   object \n",
            " 7   Age                         1080 non-null   object \n",
            " 8   Enrollment                  1080 non-null   float64\n",
            " 9   Other IDs                   1080 non-null   object \n",
            " 10  Total number of studies     51 non-null     object \n",
            " 11  1158                        50 non-null     object \n",
            " 12  Unnamed: 2                  0 non-null      float64\n",
            " 13  Unnamed: 3                  0 non-null      float64\n",
            " 14  Type Intervention           11 non-null     object \n",
            " 15  Unnamed: 5                  11 non-null     object \n",
            " 16  Total number of patients    10 non-null     float64\n",
            "dtypes: float64(4), object(13)\n",
            "memory usage: 150.3+ KB\n"
          ]
        }
      ]
    },
    {
      "cell_type": "markdown",
      "source": [
        "##handling missing values"
      ],
      "metadata": {
        "id": "AhFMV5JRPysI"
      }
    },
    {
      "cell_type": "code",
      "source": [
        "ct_data.isnull().sum()\n"
      ],
      "metadata": {
        "colab": {
          "base_uri": "https://localhost:8080/"
        },
        "id": "0HBiHFbJXf-J",
        "outputId": "50d09e9e-f053-42da-fec0-e239217f8b2c"
      },
      "execution_count": 110,
      "outputs": [
        {
          "output_type": "execute_result",
          "data": {
            "text/plain": [
              "NCT Number                      51\n",
              "Conditions                      51\n",
              "Interventions                   51\n",
              "Primary Outcome Measures        51\n",
              "Secondary Outcome Measures     227\n",
              "Other Outcome Measures         915\n",
              "Sex                             54\n",
              "Age                             51\n",
              "Enrollment                      51\n",
              "Other IDs                       51\n",
              "Total number of studies       1080\n",
              "1158                          1081\n",
              "Unnamed: 2                    1131\n",
              "Unnamed: 3                    1131\n",
              "Type Intervention             1120\n",
              "Unnamed: 5                    1120\n",
              "Total number of patients      1121\n",
              "dtype: int64"
            ]
          },
          "metadata": {},
          "execution_count": 110
        }
      ]
    },
    {
      "cell_type": "code",
      "source": [
        "# Handle missing values\n",
        "ct_data.dropna(subset=['Conditions', 'Interventions'], inplace=True)\n",
        "\n"
      ],
      "metadata": {
        "id": "mqGv4_qOmeee"
      },
      "execution_count": 111,
      "outputs": []
    },
    {
      "cell_type": "code",
      "source": [
        "conditions_counts = ct_data['Conditions'].value_counts().reset_index()\n",
        "conditions_counts.columns = ['Condition', 'Total Count']\n",
        "print(conditions_counts.to_string(index=False))\n"
      ],
      "metadata": {
        "id": "8lQDwGkPnGAX",
        "colab": {
          "base_uri": "https://localhost:8080/"
        },
        "outputId": "53dc6864-1745-458d-fb98-82915107a0b6"
      },
      "execution_count": 113,
      "outputs": [
        {
          "output_type": "stream",
          "name": "stdout",
          "text": [
            "                                                                                                                                                                                                      Condition  Total Count\n",
            "                                                                                                                                                                                                        Obesity           69\n",
            "                                                                                                                                                                                      Diabetes Mellitus, Type 2           34\n",
            "                                                                                                                                                                                                         Stroke           24\n",
            "                                                                                                                                                                                           Osteoarthritis, Knee           20\n",
            "                                                                                                                               Cardiovascular Risk Factor|Prediabetes|Overweight and Obesity|Sedentary Behavior           18\n",
            "                                                                                                                                                                                        Cardiovascular Diseases           16\n",
            "                                                                                                                                                                                                  Heart Failure           16\n",
            "                                                                                                                                                                                                 Osteoarthritis           12\n",
            "                                                                                                                                                                                                Type 2 Diabetes           12\n",
            "                                                                                                                                                                                    Peripheral Arterial Disease           12\n",
            "                                                                                                                                                                                                       Diabetes           11\n",
            "                                                                                                                                                                                             Overweight|Obesity           10\n",
            "                                                                                                                                                                      Postural Orthostatic Tachycardia Syndrome           10\n",
            "                                                                                                                                                                                                    Prediabetes           10\n",
            "                                                                                                                                                                                              Diabetes Mellitus           10\n",
            "                                                                                                                                                                                              Pediatric Obesity           10\n",
            "                                                                                                                                                                                        Coronary Artery Disease            9\n",
            "                                                                                                                                                            Obesity|Heart Failure, Diastolic|Metabolic Syndrome            9\n",
            "                                                                                                                        Peer Support and Chronic Disease|Obesity|Type II Diabetes|Cardiovascular Disease|Cancer            9\n",
            "                                                                                                                                                                              Coronary Artery Disease Risk High            9\n",
            "                                                                                                                                                 Coronary Heart Disease, Susceptibility to, 5|Prediabetic State            9\n",
            "                                                                                                                                                                                                   Hypertension            8\n",
            "                                                                                                                 Vascular Disease, Peripheral|Physical Inactivity|Arterial Hypertension|Endothelial Dysfunction            8\n",
            "                                                                                                                          Cardiovascular Diseases|Cardiovascular Abnormalities|Heart Attack|Stroke|Hypertension            8\n",
            "                                                                                                                                              Stroke|Stroke, Ischemic|Stroke Hemorrhagic|Stroke, Cardiovascular            8\n",
            "                                                                                                                                                                      Physical Activity|Acute Coronary Syndrome            8\n",
            "                                                                                                                                                                        Obesity|Diabetes|Cardiovascular Disease            7\n",
            "                                                                       Cardiovascular Diseases|Cardiovascular Risk Factor|Nutrition Disorders|Diabetes|Hypertension|Cancer|Depression|Obesity|Physical Activity            7\n",
            "                                                                                                                                         Type 2 Diabetes Mellitus|Healthy|Overweight|Cardiovascular Risk Factor            7\n",
            "                                                                                                                           Insulin Resistance|Type2 Diabetes Mellitus|Non-Alcoholic Fatty Liver Disease|Obesity            7\n",
            "                                                                                                                                             Type2 Diabetes Mellitus|Hyperglycemia|Heart Rate|Exercise Training            7\n",
            "                                                                                                                                                                                  Obesity|Hypertension|Diabetes            7\n",
            "                                                                                                  Diabetes Mellitus, Type 2|Cardiovascular Diseases|Endothelial Dysfunction|Insulin Resistance|Oxidative Stress            7\n",
            "                                                                                                                                                     Prehypertension|Blood Pressure|Abdominal Obesity|Adiposity            7\n",
            "                                                                                                                                                                 Diabetes Mellitus, Type 2|Pre-diabetes|Obesity            7\n",
            "                                                                                                                                                                             Overweight and Obesity|PreDiabetes            7\n",
            "                                                                                                                                                          Overweight and Obesity|PreDiabetes|Insulin Resistance            7\n",
            "                                                                                                                                                                               Type 2 Diabetes Mellitus|Obesity            7\n",
            "                                                                                                                                                                 Obesity|Hypertension|Diabetes Mellitus, Type 2            7\n",
            "                                                                                                                                                                                                    PreDiabetes            6\n",
            "                                                                                                                                                                                               Dysphagia|Stroke            6\n",
            "                                                                                                      Vascular Accident, Brain|CVA (Cerebrovascular Accident)|Gait, Hemiplegic|Spastic Lower Extremity Weakness            6\n",
            "                                                                                                                                                             Peripheral Arterial Disease|Critical Limb Ischemia            6\n",
            "                                                                                                                                                          Peripheral Arterial Disease|Intermittent Claudication            6\n",
            "                                                                                                                                                                                           Gestational Diabetes            6\n",
            "                                                                                                                                                                                                Health Behavior            6\n",
            "                                                                                                                                                         Alzheimer Disease 2 Due to Apoe4 Isoform|Healthy Aging            6\n",
            "                                                                                                                               Cardiovascular Diseases|Obesity, Visceral|Liver Fat|Metabolic Syndrome|Lifestyle            6\n",
            "                                                                                                                                                                Weight Loss|Pre Diabetes|Overweight and Obesity            5\n",
            "                                                                                                                                                                                                   Pre Diabetes            5\n",
            "                                                                                                                                                                                           Pre-diabetes|Obesity            5\n",
            "                                                                                                                                                Gestational Diabetes|Gestational Diabetes Mellitus in Pregnancy            5\n",
            "                                                                                                                                                Diabetes Mellitus, Type 2|Metabolic Syndrome|Insulin Resistance            5\n",
            "                                                                                                                                                                                 Diabetes Mellitus|Hypertension            5\n",
            "                                                                                     Obesity|Cardiovascular Risk Factor|Eating Behavior|Diet Modification|Physical Activity|Quality of Life|Mobility Limitation            5\n",
            "                                                                                                                                                          Obesity|Lifestyle-related Condition|Macrosomia, Fetal            5\n",
            "                                                                                                                                                                       Diabetes|Weight Loss|PreDiabetes|Obesity            5\n",
            "                                                                                                       Health Promotion|Cardiovascular Disease|Physical Inactivity|Selfreported Quality of Health|Mental Health            5\n",
            "                                                                                                                                                                                Diabetes|Cardiovascular Disease            5\n",
            "                                                                                                                                                                                          Metabolic Disturbance            5\n",
            "                                                                                                                                                                            At Risk of Type 2 Diabetes Mellitus            5\n",
            "                                                                                                                                                                     Individuals at Risk of Developing Diabetes            5\n",
            "                                                                                                                                                                                               Obesity|Diabetes            5\n",
            "                                                                                                                                                                                              Prediabetes|Obese            5\n",
            "                                                                                                                                                                           Adolescent Obesity|Diabetes Mellitus            5\n",
            "                                                                                                                                                                                              Childhood Obesity            5\n",
            "                                                                                                                                                           Chronic Heart Failure With Reduced Ejection Fraction            5\n",
            "                                                                                                                                                                  Cardiac Arrest|Post Traumatic Stress Syndrome            5\n",
            "                                                                                                                                           Cognitive Function, Preclinical|Chronic Kidney Diseases|Older Adults            5\n",
            "                                                                                                                                                                                            Atrial Fibrillation            5\n",
            "                                                                                                                                                                                       Heart Failure, Diastolic            5\n",
            "                                                                                                          Healthy Adults (Full Study and Extension Phase)|Hypertrophic Cardiomyopathy or Dilated Cardiomyopathy            4\n",
            "                                                                                                                                                                                    Stroke|Spinal Cord Injuries            4\n",
            "                                                                                                                                                                                             Obesity, Childhood            4\n",
            "                                                                                                                                                                                                  Child Obesity            4\n",
            "                                                                                                                                                                                                        Healthy            4\n",
            "                                                                                                                                   Heart Failure|Heart Diseases|Cardiovascular Diseases|Endothelial Dysfunction            4\n",
            "                                                                                                                                  Cardiovascular Disease|Preeclampsia|Hypertension|Post-partum Weight Retention            4\n",
            "                                                                                                                            Cardiovascular Risk Factor|Stress|Self Efficacy|Depressive Symptoms|Health Behavior            4\n",
            "                                                                                                                                              Stroke|Hemiplegia|Rehabilitation; Tobacco Use|Physical Disability            4\n",
            "                                                                                           Cigarette Smoking|Coronary Heart Disease|Cardiovascular Risk Factor|Insulin Resistance|Oxidative Stress|Inflammation            4\n",
            "                                                                                                                                                                       Osteoarthritis, Knee|Osteoarthritis, Hip            4\n",
            "                                                                                                                                                                                            Alzheimer's Disease            4\n",
            "                                                                                                                                                                          Knee Osteoarthritis|Knee Pain Chronic            4\n",
            "                                                                                                                                                                                          Aortic Valve Stenosis            4\n",
            "                                                                                                                   Fatigue|Cardiopulmonary Arrest|Physical Inactivity|Muscle Weakness|Stress, Emotional|Dyspnea            4\n",
            "                                                                                                                                                                                                    Weight Loss            4\n",
            "                                                                                                                                                                                          Overweight or Obesity            4\n",
            "                                                                                                                                                                                            Knee Osteoarthritis            4\n",
            "                                                                                                                                                                      Osteoarthritis|Degenerative Joint Disease            4\n",
            "                                                                                                                                                                                      Heart Failure, Congestive            4\n",
            "                                                                                                                                                                                             Tobacco Dependence            4\n",
            "                                                                                                                                                                                                  Aging|Aphasia            4\n",
            "                                                                                                                                                                   Arthroplasty|Replacement|Knee Osteoarthritis            4\n",
            "                                                                                                              Leg Length Inequality|Leg; Lengthening|Osteoarthritis, Knee|Osteoarthritis of Hip|Quality of Life            4\n",
            "                                                                                                                                                                                           Osteo Arthritis Knee            4\n",
            "                                                                                                                                                                    Heart Failure|ICD|Chronotropic Incompetence            4\n",
            "                                                                                                                                                                                             Metabolic Syndrome            4\n",
            "                                                                                                                                                                                              Physical Activity            3\n",
            "                                                                                                                                                                                     Alzheimer Disease|Dementia            3\n",
            "                                                                                                                                                                                  Ischemic Stroke|Stroke, Acute            3\n",
            "                                                                                                                                                                                            Physical Inactivity            3\n",
            "                                                                                                                                                               Alzheimer Dementia|Caregiver|Dementia Alzheimers            3\n",
            "                                Diabetes|PreDiabetes|Metabolic Disease|Hyperglycemia|Diet Modification|Glucose Intolerance|Glucose Metabolism Disorders (Including Diabetes Mellitus)|Endocrine System Diseases            3\n",
            "                                                                                                                                                   Stroke|Depression|Depressive Symptoms|Post-stroke Depression            3\n",
            "                                                                                                                                                                                          Diabetes, Gestational            3\n",
            "                                                                                                                                                                                              Prediabetic State            3\n",
            "                                                                                                                                                           Healthy|Dementia|Alzheimer Disease|Physical Activity            3\n",
            "                                                                                                                                                          Research With Clinical Staff in Stroke Rehabilitation            3\n",
            "                                                                                                                                Dementia|Alzheimer Disease|Mild Cognitive Impairment|Aging|Cognitive Impairment            3\n",
            "                                                                                                                                                        Cognitive Symptom|Pre Senile Dementia|Alzheimer Disease            3\n",
            "                                                                      Mild Cognitive Impairment|Major Depressive Disorder, Recurrent, In Remission|Major Depressive Disorder, Single Episode, in Full Remission            3\n",
            "                                                                                                                                                                                              Diabetes|Deafness            3\n",
            "                                                                                                                                                                      Sedentary Lifestyle|Stress, Psychological            3\n",
            "                                                                                                                           Dementia, Vascular|Alzheimer Dementia|Lewy Body Dementia With Behavioral Disturbance            3\n",
            "                                                                                                                                                                                                   Pre-Diabetes            3\n",
            "                                                                                                                                                                                      Diabetes Mellitus, Type 1            3\n",
            "                                                                                                                                                                                      Stroke|Balance; Distorted            3\n",
            "                                                                                                                     Alzheimer Disease|Dementia|Cognitive Decline|Cognitive Impairment|Dementia, Alzheimer Type            3\n",
            "                                                                                                                                                         Low Education|Cognition|Cognitive Training|Polyphenols            3\n",
            "                                                                                                                                                                             Diabetes Mellitus|Glycemic Control            3\n",
            "                                                                                                                                                   Premature Birth|Maternal Distress - Delivered|Stress|Anxiety            3\n",
            "                                                                                                                                                                                             Stroke|Hemiparesis            3\n",
            "                                                                                                                                                                                                Type 1 Diabetes            3\n",
            "                                                                                                                                                                                        Weight Loss|PreDiabetes            3\n",
            "                                                                                                                                                                                           Spinal Cord Injuries            3\n",
            "                                                                                                                                                                                             Healthy Volunteers            3\n",
            "                                                                                                                                                   Cerebral Palsy|Perinatal Stroke|Periventricular Leukomalacia            3\n",
            "                                                                                                                                                 Obesity, Morbid|Diabetes Mellitus, Type 2|Intestines|Incretins            3\n",
            "                                                                                                                                                                                           Rheumatoid Arthritis            3\n",
            "                                                                                                                                                                                        Physical Activity|Aging            3\n",
            "                                                                                                                                                                                  Obesity|Weight Gain, Maternal            2\n",
            "                                                                                                            Depression|Quality of Life|Self Efficacy|Recovery of Function|Stress|Positive Aspects of Caregiving            2\n",
            "                                                                                                                                                                                               Obesity|Students            2\n",
            "                                                                                                                                                                           Food Preferences|Obesity|Weight Gain            2\n",
            "                                                                                                                                                                                                  Stress|Weight            2\n",
            "                                                                                                                                                                                      Obesity|Childhood Obesity            2\n",
            "                                                                                                               Glucose Metabolism Disorders|Obesity, Visceral|Obesity; Endocrine|Insulin Sensitivity/Resistance            2\n",
            "                                                                                                                                                                                     Obesity|Metabolic Syndrome            2\n",
            "                                                                                                                                                               Pediatric Obesity|Adolescent Obesity|Weight Loss            2\n",
            "                                                                                                                                                  Obesity, Childhood|Physical Activity|Food Intake|Rural Health            2\n",
            "                                                                                                                                                                                        Osteoarthritis Shoulder            2\n",
            "                                                                                                                                                                                      Depression|Osteoarthritis            2\n",
            "                                                                                                                                                                            Obesity|Severe Obesity|Sleep Apnoea            2\n",
            "                                                                                                                                              Asthma in Children|Obesity|Obesity, Adolescent|Obesity, Childhood            2\n",
            "                                                                                                                                                                                                    Feasibility            2\n",
            "                                                                                                                                                                        Obesity, Morbid|Eating Disorder Symptom            2\n",
            "                                                                                                                                                                          Obesity, Childhood|Nutrition, Healthy            2\n",
            "                                                                                                                                                       Overweight and Obesity|Health Behavior|Sleep Deprivation            2\n",
            "                                                                                                                                                                Sedentary Behavior|Adipose Tissue|Child Obesity            2\n",
            "                                                                                                                                                                Insulin Sensitivity|Obesity|Sedentary Lifestyle            2\n",
            "                                                                                                                                                                Overweight, Obesity and Other Hyperalimentation            2\n",
            "                                                                                                                                                                          Diet, Healthy|Eating Behavior|Obesity            2\n",
            "                                                                                                                                                                     HIV|Inflammation|Obesity|Aging, Biological            2\n",
            "                                                                                                                                                                                      Physical Activity|Obesity            2\n",
            "                                                                                                                                            Asthma in Children|Obesity, Childhood|Exercise Induced Bronchospasm            2\n",
            "                                                                                                                                   Overweight and Obesity|Physical Activity|Weight Change, Body|Eating Behavior            2\n",
            "                                                                                                                                                                               Overweight|Overweight or Obesity            2\n",
            "                                                                                                                                                                            Obesity|Weight Loss|Eating Behavior            2\n",
            "                                                                                                                                          Obesity|Childhood Obesity|Nutrient; Excess|Community Health Education            2\n",
            "                                                                                                                                                                                              Obesity; Rurality            2\n",
            "                                                                                                                                                                                            Obesity|Weight Gain            2\n",
            "                                                                                                                                                       Internet Based Wellness Program|Obesity|Adult Population            2\n",
            "                                                                                                                                                              Child Mental Disorders|Obesity|Metabolic Syndrome            2\n",
            "                                                                                                                                                                Spinal Cord Injuries|Obesity|Insulin Resistance            2\n",
            "                                                                                                                                                                     Weight Gain|Healthy Subjects|Obesity|Women            2\n",
            "                                                                                                                                                                         Overweight and Obesity|Eating Behavior            2\n",
            "                                                                                                                         Kidney Transplant; Complications|Obesity|Physical Activity|Weight Gain|Health Behavior            2\n",
            "                                                                                                                                                                          Weight Loss|Diet Modification|Obesity            2\n",
            "                                                                                                                                                                      Obesity|Physical Inactivity|Diet, Healthy            2\n",
            "                                                                                                                                                                                                  Healthy|Obese            2\n",
            "                                                     Breast Cancer|Overweight and Obesity|Diet, Healthy|Weight Gain|Alcohol Drinking|Smoking Behaviors|Healthy Nutrition|Healthy Lifestyle|Healthy Eating Index            2\n",
            "                                                                                                                                                                                            Obesity|Weight Loss            2\n",
            "                                                                                                                                                                                               Overweight|Obese            2\n",
            "                                                                                                                                                                                        Weight Loss Maintenance            2\n",
            "                                                                                                                                                                               Overweight|Risk Behavior|Obesity            2\n",
            "                                                                                                                                                                                    Aging|Postmenopause|Obesity            2\n",
            "                                                                                                                                                                                             Obesity|Overweight            2\n",
            "                                                                                                                                 Weight Change, Body|Behavior, Health|Obesity, Childhood|Parent-Child Relations            2\n",
            "                                                                                                                                                                                Obesity|Overweight|Binge Eating            2\n",
            "                                                                                                                                                                           Physical Activity|Obesity Prevention            2\n",
            "                                                                                                                                 Body Weight Changes|Overweight and Obesity|Sedentary Lifestyle|Health Behavior            2\n",
            "                                                                                                               Pediatric Obesity|Healthy Eating|Physical Activity|Minority Health|Mindfulness|Family|Counseling            2\n",
            "                                                                                               Sedentary Behavior|Behavior, Health|Cholesterolemia|Obesity|Stress|Hypertension|Fatigue|Glucose, High Blood|Mood            2\n",
            "                                                                                                                                                                                Obesity|Endothelial Dysfunction            2\n",
            "                                                                                                                                                                                         Overweight and Obesity            2\n",
            "                                                                                                                                                                            Obesity, Adolescent|Eating, Healthy            2\n",
            "                                                                                                                                                                 Insulin Resistance|Obesity|Sedentary Lifestyle            2\n",
            "                                                                                                                                                                          Obesity|Healthy Volunteers|Overweight            2\n",
            "                                                                                                                                                                             Healthy|Spastic Hemiparesis|Stroke            2\n",
            "                                                                                                                                                                                      Childhood Obesity|Obesity            2\n",
            "                                                                                                                                 Hypertension|Self-management|Technology|Community-based Participatory Research            2\n",
            "                                                                                                                                                                             Anterior Cruciate Ligament Rupture            2\n",
            "                                                                                                                  Cardiovascular Risk Factor|Health Behavior|Physical Activity|Self Efficacy|Vascular Stiffness            2\n",
            "                                                                                                                                                                                    Chronic Mesenteric Ischemia            2\n",
            "                                                                                                                                                                            Cannabis|Cardiovascular Risk Factor            2\n",
            "                                                                                                                                                                                Pulmonary Arterial Hypertension            2\n",
            "                                                                                                                                                             Cardiovascular Diseases|Cardiovascular Risk Factor            2\n",
            "                                                                                                 Cognitive Decline|Cardiovascular Diseases|Cognitive Dysfunction|Cognitive Impairment|Mild Cognitive Impairment            2\n",
            "                                                                                                                                  Cardiovascular Diseases|Physical Activity|Diet Modification|Lifestyle Factors            2\n",
            "                                                                                                                                                 Health Behavior|Genetic Information|Cardiovascular Risk Factor            2\n",
            "                                                                                                                                            Cardiac Rehabilitation|Physical Activity|Fruit and Vegetable Intake            2\n",
            "                                                                                                                                                             Peanut Consumption|High Intensity Aerobic Exercise            2\n",
            "                                                                                                                                                              Traumatic Brain Injury|Gait Disorders, Neurologic            2\n",
            "                                                                                                                                                                                 Post Traumatic Stress Disorder            2\n",
            "                                                                                                                                                                                                          Aging            2\n",
            "                                                                                                                                                                                  Asymptomatic Amyloid-positive            2\n",
            "                                                                                                                                                                                                         APOE 4            2\n",
            "                                                                                                                                                             Alzheimer Disease|Frontotemporal Dementia|Dementia            2\n",
            "                                                                                                                                                                    Alzheimer Disease|Mild Cognitive Impairment            2\n",
            "                                                                                              Alzheimer Disease|Mild Cognitive Impairment|Memory Disorders|Cognitive Impairment|Dementia|Presymptomatic Disease            2\n",
            "                                                                                                                                                          Alzheimer's Disease|Traumatic Brain Injury|Depression            2\n",
            "                                                                                                                                                                                             Independent Living            2\n",
            "                                                                                                                                                                  Mild Cognitive Impairment|Alzheimer's Disease            2\n",
            "                                                                                                                                                       Alzheimers Disease|Dementia|Alzheimers Disease, Familial            2\n",
            "                                                                                                                                                                                     Dementia|Alzheimer Disease            2\n",
            "                                                                                                                                                           Dementia|Mild Cognitive Impairment|Alzheimer Disease            2\n",
            "                                                                                                                                                                   Cognitive Impairment, Mild|Alzheimer Disease            2\n",
            "                                                                                                                                                           Dementia|Alzheimer's Disease|Frontotemporal Dementia            2\n",
            "                                                                                                                                                Alzheimer's Disease|Frontotemporal Dementia, Behavioral Variant            2\n",
            "                                                                                                                                                                                              Alzheimer Disease            2\n",
            "                                                                                                                                                                                       Healthy|Pre Hypertension            2\n",
            "                                                                                                                                                                                            Nicotine Dependence            2\n",
            "                                                                                                                                                                        Lipoprotein Metabolism|PCSK9|Proteomics            2\n",
            "                                                                                                                                                                         Aging|Heat Stress|Physiological Stress            2\n",
            "                                                                                                                                                                           Obesity|Prehypertension|Hypertension            2\n",
            "                                                                                                                                                         Macular Degeneration, Age-Related|Diabetic Retinopathy            2\n",
            "                                                                                                                   Diabetes Mellitus|Endocrine System Diseases|Glucose Metabolism Disorders|PreDiabetes|Obesity            2\n",
            "                                                                                                                                                         Obesity, Visceral|Cardiovascular Diseases|Fat Disorder            2\n",
            "                                                                                                                                                                                      Obesity|Prediabetic State            2\n",
            "                                                                                   Shift Work Type Circadian Rhythm Sleep Disorder|Chronobiology Disorders|Mood Swing|Physical Activity|Cardiovascular Diseases            2\n",
            "                                                                                                                      Cognitive Impairment|Executive Dysfunction|Endothelial Dysfunction|Cardiovascular Disease            2\n",
            "                                                                                                                          Cardiovascular Risk Factor|Blood Pressure|Exercise|Diet Modification|Health Promotion            2\n",
            "                                                                                                                                                                                     Cancer|Physical Inactivity            2\n",
            "                                                                                                                                                                             Hypertension|Hypertensive Patients            2\n",
            "                                                                                                                                                                                                           Foot            1\n",
            "                                                                                                                                                                                          Inflammatory Response            1\n",
            "                                                                                                                                                                                 Pancreatitis|Diabetes Mellitus            1\n",
            "                                                                                                                                               Healthy Volunteers (Intended Indication: Chronic Kidney Disease)            1\n",
            "                                                                                                                                                                                                Osteo-arthritis            1\n",
            "                                                                                                                    Nephropathy|Hypoxia|Mitochondrial Alteration|Type 1 Diabetes|Autonomic Neuropathy, Diabetic            1\n",
            "                                                                                                                                                          Attention Concentration Difficulty|Obesity, Childhood            1\n",
            "                                                                                                                                                                                                Obesity|Healthy            1\n",
            "                                                                                                                                                                      Impulsivity|Compulsive Overeating|Obesity            1\n",
            "                                                                                                                                                                                              Healthy Volunteer            1\n",
            "                                                                                                                                                        Organizational Support for Evidence-based Public Health            1\n",
            "                                                                                                                                                                                      Uncontrolled Hypertension            1\n",
            "                                                                                                                                                                                          Carotid Artery Plaque            1\n",
            "                                                                                                                                                     Orthostatic Hypotension|Neurogenic Orthostatic Hypotension            1\n",
            "                                                                                                                                                               Coronary Artery Calcification|Arterial Stiffness            1\n",
            "                                                                                                                                                            Inflammation|Atherosclerosis|Cardiovascular Disease            1\n",
            "                                                                                                                                                                         Polycystic Ovary Syndrome|Hypertension            1\n",
            "                                                                                                                                                   Vascular Inflammation|Atherosclerotic Cardiovascular Disease            1\n",
            "                                                                                                                                                          Postural Tachycardia Syndrome|Orthostatic Intolerance            1\n",
            "                                                                                                                                                                                 Out-Of-Hospital Cardiac Arrest            1\n",
            "                                                                                                                                                       Screening|Aortic Aneurysm and Dissection|Genetic Disease            1\n",
            "Heart Diseases|Coronary Disease|Coronary Artery Disease|Cardiovascular Diseases|Myocardial Ischemia|Artery Occlusion|Aspirin Sensitivity|Clopidogrel, Poor Metabolism of|Platelet Dysfunction|Platelet Thrombus            1\n",
            "                                                                                                                                                                Snoring|Mouth Breathing|Obstructive Sleep Apnea            1\n",
            "                                                                                                                                                                                        Hypoxia-Ischemia, Brain            1\n",
            "                                                                                                                                                     HIV/AIDS|Cardiovascular Risk Factors|Trauma, Psychological            1\n",
            "                                                                                                                                                                                      Kidney Disease, End-Stage            1\n"
          ]
        }
      ]
    },
    {
      "cell_type": "code",
      "source": [
        "Interventions_counts = ct_data['Interventions'].value_counts().reset_index()\n",
        "Interventions_counts.columns = ['Interventions', 'Total Count']\n",
        "print(Interventions_counts.to_string(index=False))"
      ],
      "metadata": {
        "id": "bbdMJ5WRogpp",
        "colab": {
          "base_uri": "https://localhost:8080/"
        },
        "outputId": "96d8148c-acaf-44e2-d470-d17d6857ceb4"
      },
      "execution_count": 114,
      "outputs": [
        {
          "output_type": "stream",
          "name": "stdout",
          "text": [
            "                                                                                                                                                                                                                                                                                                                                                                                                                                       Interventions  Total Count\n",
            "                                                                                                                                                                                                                                                                                                                                                                                                                                BEHAVIORAL: Exercise           21\n",
            "                                                                                                                                                                                                                                                                                                                                          BEHAVIORAL: The Physical Activity for The Heart (PATH) intervention|BEHAVIORAL: Be Active Your Way Booklet           18\n",
            "                                                                                                                                                                                                                                                                                                                                                   BEHAVIORAL: Health coaching|GENETIC: Genetic risk counseling|BEHAVIORAL: Standard risk assessment            9\n",
            "                                                                                                                                                                                                                                                                                                                                                                                                                                   DEVICE: BodyMedia            9\n",
            "                                                                                                                                                                                                                                                                                                                    BEHAVIORAL: High intensity exercise|DIETARY_SUPPLEMENT: Omega-3 fish oil|BEHAVIORAL: Yoga|DIETARY_SUPPLEMENT: olive oil capsules            9\n",
            "                                                                                                                                                                                                                                                                                                                                                                            DRUG: Exercise plus Regadenoson (Lexercise)|DRUG: Regadenoson (Lexiscan)            9\n",
            "                                                                                                                                                                                                                                                                                                                                                                                                          BEHAVIORAL: Peer Support Dyad Intervention            9\n",
            "                                                                                                                                                                                                                                                                                                                                                                                      DIETARY_SUPPLEMENT: CardioFlex Q10|DIETARY_SUPPLEMENT: Placebo            8\n",
            "                                                                                                                                                                                                                                                                                                                                                                                          BEHAVIORAL: Financial incentive|BEHAVIORAL: Daily feedback            8\n",
            "                                                                                                                                                                                                                                                                                                                                                PROCEDURE: Ischemic Conditioning|PROCEDURE: Ischemic Conditioning Sham|PROCEDURE: Treadmill Training            8\n",
            "                                                                                                                                                                                                                                                                                                                                                                                              DEVICE: Transcranial direct current stimulation (tDCS)            8\n",
            "                                                                                                                                                                                                                                                                                                                                                                                                          BEHAVIORAL: Exercise training intervention            8\n",
            "                                                                                                                                                                                                                                                                                                                                                                                             OTHER: Behavioral|OTHER: Exercise training intervention            7\n",
            "                                                                                                                                                                                                                                                                                                                                                                                                      DEVICE: Sit-Stand workstation|BEHAVIORAL: Move            7\n",
            "                                                                                                                                                                                                                                                                                                                                                                                                                           BEHAVIORAL: Feeding study            7\n",
            "                                                                                                                                                                                                                                                                                                                                                                                                              OTHER: Jump rope exercise intervention            7\n",
            "                                                                                                                                                                                                                                                                                                                                                                                                                               BEHAVIORAL: Treatment            7\n",
            "                                                                                                                                                                                                                                                                                                                                                                                                                   DIETARY_SUPPLEMENT: High-fat diet            7\n",
            "                                                                                                                                                                                                                                                                                                                                                                                                                                         DEVICE: CGM            7\n",
            "                                                                                                                                                                                                                                                                                                                                                                      DEVICE: Overstitch Endoscopic Suture System|BEHAVIORAL: Lifestyle Intervention            7\n",
            "                                                                                                                                                                                                                                                                                                                      BEHAVIORAL: In Person Group (IP)|BEHAVIORAL: Telephone Conference Call Group (TCC)|BEHAVIORAL: Medical Nutrition Therapy (MNT)            7\n",
            "                                                                                                                                                                                                                                                                                                                                                                                                                       OTHER: Time-restricted eating            7\n",
            "                                                                                                                                                                                                                                                                                                                                                                                                             OTHER: Cardiovascular exercise training            7\n",
            "                                                                                                                                                                                                                                                                                                                                                                                                                               BEHAVIORAL: Lifestyle            7\n",
            "                                                                                                                                                                                                                                                                                                                                                                            BEHAVIORAL: No intervention|BEHAVIORAL: High-intensity interval training            6\n",
            "                                                                                                                                                                                                                                                                                                                                                                                                                          BEHAVIORAL: POWER training            6\n",
            "                                                                                                                                                                                                                                                                                                                                                                                                                BEHAVIORAL: High-volume road cycling            6\n",
            "                                                                                                                                                                                                                                                                                                                                                                                                     BEHAVIORAL: Moderate Intensity Aerobic Exercise            6\n",
            "                                                                                                                                                                                                                                                                                                                                                                                                                                        DEVICE: tDCS            6\n",
            "                                                                                                                                                                                                                                                                                                                                                                                            DRUG: Creatine monohydrate|DIETARY_SUPPLEMENT: Cellulose            6\n",
            "                                                                                                                                                                                                                                                                                                                                                                                 BEHAVIORAL: Supervised Exercise Program|OTHER: Best Medical Therapy            6\n",
            "                                                                                                                                                                                                                                                                                                                                                                                                                OTHER: Exercise training|OTHER: NMES            6\n",
            "                                                                                                                                                                                                                                                                                                                                                                                                   BEHAVIORAL: shared decision-making tool (SHARE-D)            6\n",
            "                                                                                                                                                                                                                                                                                                                                                                                                                                 OTHER: Health check            5\n",
            "                                                                                                                                                                                                                                                                                                                                                                                                                  BEHAVIORAL: FAID Fear Intervention            5\n",
            "                                                                                                                                                                                                                                                                                                                                                                   BEHAVIORAL: Blood Test Group Intervention|BEHAVIORAL: Brochure Group Intervention            5\n",
            "                                                                                                                                                                                                                                                                                                                                                                                                                 OTHER: Formulation 3|OTHER: Control            5\n",
            "                                                                                                                                                                                                                                                                                                                                                                                    BEHAVIORAL: Wait-list control group|BEHAVIORAL: SMS intervention            5\n",
            "                                                                                                                                                                                                                                                                                                                                                                         BEHAVIORAL: HELP Vets Intervention|BEHAVIORAL: Individual Education Program            5\n",
            "                                                                                                                                                                                                                                                                                                                                                                                                             BEHAVIORAL: Staff -Educational training            5\n",
            "                                                                                                                                                                                                                                                                                                                                                                                                                 BEHAVIORAL: Time Restricted Feeding            5\n",
            "                                                                                                                                                                                                                                                                                                                                                                              BEHAVIORAL: Diabetes Intervention|BEHAVIORAL: Leadership & Life Skills            5\n",
            "                                                                                                                                                                                                                                                                                                                                                                                                                       DRUG: Salsalate|DRUG: Placebo            5\n",
            "                                                                                                                                                                                                                                                                                                                                                                                                                  BEHAVIORAL: Lifestyle Intervention            5\n",
            "                                                                                                                                                                                                                                                                                                                                                         OTHER: diabetes program|OTHER: telehealth training and support for Community Health Workers            5\n",
            "                                                                                                                                                                                                                                                                                                                                    BEHAVIORAL: A low-cost DSME program and scalable delivery model for roll-out within the Thai primary care system            5\n",
            "                                                                                                                                                                                                                                                                                                                                                                    BEHAVIORAL: Partially supervised home-based walking exercise|BEHAVIORAL: Control            5\n",
            "                                                                                                                                                                                                                                                                                                                                                               OTHER: Static Handgrip|DRUG: Dexmedetomidine|DRUG: Glycopyrrolate|DRUG: Isoproterenol            5\n",
            "                                                                                                                                                                                                                                                                                                                                                                                                                               OTHER: DSD|OTHER: CDP            5\n",
            "                                                                                                                                                                                                                                                                                                                                                                        BEHAVIORAL: GLB plus phone contacts|BEHAVIORAL: GLB plus newsletter contacts            5\n",
            "                                                                                                                                                                                                                                                                                                                                                       RADIATION: Plasma Volume|PROCEDURE: Exercise Capacity Test - Bicycle|PROCEDURE: Posture Study            5\n",
            "                                                                                                                                                                                                                                                                                                                       DRUG: LCZ696 (Sacubitril/Valsartan)|DRUG: Placebo of LCZ696 (Sacubitril/Valsartan)|DRUG: Enalapril|DRUG: Placebo of Enalapril            5\n",
            "                                                                                                                                                                                                                                                                                                                                                                                                                                        DRUG: BQ-123            5\n",
            "                                                                                                                                                                                                                                                                                                                                                                                                                                   DRUG: Roflumilast            5\n",
            "                                                                                                                                                                                                                                                                                                                                                                                              BEHAVIORAL: Endurance training plus resistant training            5\n",
            "                                                                                                                                                                                                                                                                                                                          RADIATION: Blood Volume|RADIATION: Total Blood Volume|PROCEDURE: Exercise Capacity Test - Bicycle|PROCEDURE: Posture Study            5\n",
            "                                                                                                                                                                                                                                                                                                                                                                                                           BEHAVIORAL: Twitter Diabetes Intervention            5\n",
            "                                                                                                                                                                                                                                                                                                                                                                                                      BEHAVIORAL: Behavioural Lifestyle Intervention            5\n",
            "                                                                                                                                                                                                                                                                                                                                                                                                                      BEHAVIORAL: Best Possible Self            5\n",
            "                                                                                                                                                                                                                                                                                                                                                                                                                        BEHAVIORAL: Black Girls Move            5\n",
            "                                                                                                                                                                                                                                                                                                                                                                                                          DIAGNOSTIC_TEST: contrast echocardiography            5\n",
            "                                                                                                                                                                                                                                                                                                                                                                            DEVICE: Continuous Glucose Monitoring System (CGMS)|BEHAVIORAL: Food log            5\n",
            "                                                                                                                                                                                                                                                                                                                                                                                                                                  DEVICE: 1-lead ECG            5\n",
            "                                                                                                                                                                                                                                                                                                                                                                                                    BEHAVIORAL: INVENT Secure Messaging Intervention            5\n",
            "                                                                                                                                                                                                                                                                                                                                                                                                   BEHAVIORAL: Standard DPP|BEHAVIORAL: Enhanced DPP            5\n",
            "                                                                                                                                                                                                                                                                                                                                                                                       BEHAVIORAL: HBHS|BEHAVIORAL: HBHS Policy|BEHAVIORAL: WORD DPP            5\n",
            "                                                                                                                                                                                                                                                                                                                                                                                                     BEHAVIORAL: Insulin Superheroes Club Curriculum            5\n",
            "                                                                                                                                                                                                                                                                                                                                                                                                                 OTHER: Single Leg Exercise Training            5\n",
            "                                                                                                                                                                                                                                                                                                                                                                                                                              DRUG: QR-bromocriptine            5\n",
            "                                                                                                                                                                                                                                                                                                                                                                       BEHAVIORAL: REACH + FAMS|BEHAVIORAL: REACH|BEHAVIORAL: Helpline & A1c results            5\n",
            "                                                                                                                                                                                                                                                                                                                                                            OTHER: Intermittent Fasting (IF)|OTHER: Daily Restriction (DR)|OTHER: standard care (SC)            5\n",
            "                                                                                                                                                                                                                                                                                                                                                                                                                  OTHER: Exercise|OTHER: No Exercise            4\n",
            "                                                                                                                                                                                                                                                                                                                                                                BEHAVIORAL: Weight-Loss Maintenance|BEHAVIORAL: Health Education (Attention Control)            4\n",
            "                                                                                                                                                                                                                                                                                       DIETARY_SUPPLEMENT: Supplementation with Spirulina maxima|OTHER: Washout|OTHER: Supplementation with placebo|OTHER: Isoenergetic diet|OTHER: Exercise program            4\n",
            "                                                                                                                                                                                                                                                                                                                                                                                              OTHER: GLA:D Canada Program|OTHER: JointEffort Program            4\n",
            "                                                                                                                                                                                                                                                                                                                                                                                                                        DEVICE: Synvisc-One (G-F 20)            4\n",
            "                                                                                                                                                                                                                                                                                                                                                                                           DEVICE: PRISMA 3T MRI scanner (Siemens Medical Solutions)            4\n",
            "                                                                                                                                                                                                                                                                                                                                                                                                       OTHER: Mediterranean diet|OTHER: Control Diet            4\n",
            "                                                                                                                                                                                                                                                                                                                                                                        DEVICE: Pulse Electromagnetic Field|DEVICE: Sham Pulse Electromagnetic Field            4\n",
            "                                                                                                                                                                                                                                                                                                                                                                             RADIATION: Radiographic imaging|OTHER: Evaluating function|OTHER: Forms            4\n",
            "                                                                                                                                                                                                                                                                                                                                                                                                                                     OTHER: Exercise            4\n",
            "                                                                                                                                                                                                                                                                                                                                                                                                                       OTHER: Walking stick exercise            4\n",
            "                                                                                                                                                                                                                                                                                                                                                                                                           DEVICE: Steprite™|OTHER: Standard of care            4\n",
            "                                                                                                                                                                                                                                                                                                                                                                                                                 BEHAVIORAL: Running volume increase            4\n",
            "                                                                                                                                                                                                                                                                                             DEVICE: VIBRAINT RehUp robotic orthosis|PROCEDURE: tSCS during the exercise|PROCEDURE: tSCS prior to the exercise|DEVICE: Neostim-5|PROCEDURE: Exercise            4\n",
            "                                                                                                                                                                                                                                     BEHAVIORAL: Retrieval Practice + Moderate Intensity Exercise|BEHAVIORAL: Retrieval Practice + Gentle Stretching|BEHAVIORAL: Study Only + Moderate Intensity Exercise|BEHAVIORAL: Study Only + Gentle Stretching            4\n",
            "                                                                                                                                                                                                                                                                                                 DEVICE: Intelligent portable isokinetic muscle strength test training|DEVICE: isokinetic muscle strength test training|OTHER: without test training            4\n",
            "                                                                                                                                                                                                                                                                                                                                                                                                     DEVICE: Robotic therapy|DEVICE: Aerobic therapy            4\n",
            "                                                                                                                                                                                                                                                                                                                                                                                                              OTHER: Physical Therapy Rehabilitation            4\n",
            "                                                                                                                                                                                                                                                                                                                                                       BEHAVIORAL: Tobacco/Physical Activity Intervention|BEHAVIORAL: Diet plus BP/CHOL Intervention            4\n",
            "                                                                                                                                                                                                                                                                                                                                                                                           BEHAVIORAL: Diet & Exercise|BEHAVIORAL: Attention Control            4\n",
            "                                                                                                                                                                                                                                                                                                                                                                                                                  BEHAVIORAL: Heat Therapy Treatment            4\n",
            "                                                                                                                                                                                                                                                                                                                                                                          OTHER: Family History + Whole Genome Sequencing|OTHER: Family History Only            4\n",
            "                                                                                                                                                                                                                                                                                                                                                                                                    DRUG: Flortaucipir F18|PROCEDURE: Brain PET scan            4\n",
            "                                                                                                                                                                                                                                                                                                               BEHAVIORAL: B-SWELL: Midlife Black Women's Stress Reduction Wellness Program|BEHAVIORAL: WE: Wellness program for Midlife Black Women            4\n",
            "                                                                                                                                                                                                                                                                                                                                                                                                      OTHER: Home based HIIT|OTHER: Traditional HIIT            4\n",
            "                                                                                                                                                                                                                                                                                                                                                                          DEVICE: Transaortic TAVR Implant|DEVICE: Subclavian /Axillary TAVR implant            4\n",
            "                                                                                                                                                                                                                                                                                                                                                                   DEVICE: CLS Mode on Biotronik CRT-D|DEVICE: Accelerometer Mode on Biotronik CRT-D            4\n",
            "                                                                                                                                                                                                                                                                                                                                                                                                          PROCEDURE: DCE-MRI scans|OTHER: Gadobutrol            4\n",
            "                                                                                                                                                                                                                                                                                                                                              BEHAVIORAL: Web-based educational and motivational modules|BEHAVIORAL: Information and Screening Group            4\n",
            "                                                                                                                                                                                                                                                                                                                                                                                                                           DRUG: 14 N Sodium Nitrite            4\n",
            "                                                                                                                                                                                                                                                                                                                                                                                                                                   DEVICE: DNA Nudge            3\n",
            "                                                                                                                                                                                                                                                                                                                                                           BEHAVIORAL: Mobile Health Walking Condition|BEHAVIORAL: Healthy Aging Education Condition            3\n",
            "                                                                                                                                                                                                                                                                                                                                                                                                                             BEHAVIORAL: Mind-STRIDE            3\n",
            "                                                                                                                                                                                                                                                                                                                                                                                 BEHAVIORAL: Dyadic (couples-based) positive psychology intervention            3\n",
            "                                                                                                                                                                                                                                                                                                                                                                                                  OTHER: Neural feedback plus FES and motor training            3\n",
            "                                                                                                                                                                                                                                                                                                                                                                                                                               DEVICE: OnTrack Tools            3\n",
            "                                                                                                                                                                                                                                                                                                                                                                                                                           BEHAVIORAL: ProacTive SCI            3\n",
            "                                                                                                                                                                                                                                                                                                                                                                                                      BEHAVIORAL: Mindfulness-Based Stress Reduction            3\n",
            "                                                                                                                                                                                                                                                                                                                                                   BEHAVIORAL: American Sign Language-Accessible Diabetes Education|BEHAVIORAL: Control Intervention            3\n",
            "                                                                                                                                                                                                                                                                                                                                                                                                                     BEHAVIORAL: Exergame Experience            3\n",
            "                                                                                                                                                                                                                                                                                                              DIETARY_SUPPLEMENT: MCT|DIETARY_SUPPLEMENT: MCT+ aerobic exercise|DIETARY_SUPPLEMENT: Aerobic exercise|DIETARY_SUPPLEMENT: Control day            3\n",
            "                                                                                                                                                                                                                                                                                                                                                                                                  BEHAVIORAL: Adapted DSME|BEHAVIORAL: Standard DSME            3\n",
            "                                                                                                                                                                                                                                                                                                                              OTHER: Glucemia following Mixed Meal Test|OTHER: Enteroscopy - mucosal ketogenic activity as well as glucose transport            3\n",
            "                                                                                                                                                                                                                                                                                                                                                                                                         BEHAVIORAL: TREAT-ON|BEHAVIORAL: Usual Care            3\n",
            "                                                                                                                                                                                                                                                                                                                                                                                                BEHAVIORAL: Dietary Intervention|BEHAVIORAL: Control            3\n",
            "                                                                                                                                                                                                                                                                                                                                                                                                      BEHAVIORAL: Soccer-based adaptation to the DPP            3\n",
            "                                                                                                                                                                                                                                                                                                                                                                                     DIAGNOSTIC_TEST: IADPSG Criteria|DIAGNOSTIC_TEST: NDDG Criteria            3\n",
            "                                                                                                                                                                                                                                                                                                                                                                                                                        DEVICE: CGM|OTHER: Dietitian            3\n",
            "                                                                                                                                                                                                                                                                                                                                                                                 BEHAVIORAL: Tele-Savvy|BEHAVIORAL: Healthy Living Education Program            3\n",
            "                                                                                                                                                                                                                                                                                                                                                                                        BEHAVIORAL: Aerobic Exercise|BEHAVIORAL: Resistance Exercise            3\n",
            "                                                                                                                                                                                                                                                                                                                                                                                            BEHAVIORAL: Peer Support|BEHAVIORAL: Enhanced Usual Care            3\n",
            "                                                                                                                                                                                                         DEVICE: Single-pulse Transcranial Magnetic Stimulation (TMS)|DEVICE: Paired-pulse Transcranial Magnetic Stimulation (ppTMS)|DEVICE: Low-frequency Repetitive Transcranial Magnetic Stimulation (rTMS)|DEVICE: Sham Motor Cortex Stimulation            3\n",
            "                                                                                                                                                                                                                                                                                                                                                                                      OTHER: Roasted Peanut Treatment|OTHER: Boiled Peanut Treatment            3\n",
            "                                                                                                                                                                                                                                                                     OTHER: Testing and Monitoring of Blood Glucose Levels|OTHER: Primary care coordination|OTHER: Diabetes-appropriate food packages|BEHAVIORAL: Diabetes self-management education            3\n",
            "                                                                                                                                                                                                                                                                                                                                                                                                               BIOLOGICAL: GSK2586881|OTHER: Placebo            3\n",
            "                                                                                                                                                                                                                                                                                                                                                                                                                            BEHAVIORAL: Consultation            3\n",
            "                                                                                                                                                                                                                                                                                                                                                                                                                   BEHAVIORAL: Low-Carbohydrate Diet            3\n",
            "                                                                                                                                                                                                                                                                                                                                        DRUG: Metformin|DRUG: Placebo|DIETARY_SUPPLEMENT: Carbohydrate Beverage|DIETARY_SUPPLEMENT: Protein Beverage            3\n",
            "                                                                                                                                                                                                                                                                                                                                                                                                                   DRUG: Tenecteplase|OTHER: Control            3\n",
            "                                                                                                                                                                                                                                                                                                                                                                                                                 BEHAVIORAL: Lifestyle Interventions            3\n",
            "                                                                                                                                                                                                                                                                                                                                                                                                          DEVICE: Heart rate variability biofeedback            3\n",
            "                                                                                                                                                                                                                                                                                                                                                                                                                      BEHAVIORAL: Cognitive Training            3\n",
            "                                                                                                                                                                                                                                                                                                                                                                                                         OTHER: tDCS + CR|OTHER: sham tDCS + sham CR            3\n",
            "                                                                                                                                                                                                                                                                                                                                                                                           DEVICE: MAHI EXO-II exoskeleton augmented with BMI system            3\n",
            "                                                                                                                                                                                                                                                                                                                                        BEHAVIORAL: Cognitive rehabilitation and health behavior change intervention|BEHAVIORAL: Self-implementation            3\n",
            "                                                                                                                                                                                                                                                                                                                                                                                            BEHAVIORAL: Social Dancing|BEHAVIORAL: Treadmill Walking            3\n",
            "                                                                                                                                                                                                                                                                                                                                                                                                               DEVICE: Active tDCS|DEVICE: Sham tDCS            3\n",
            "                                                                                                                                                                                                                                                                                                                                                                                         DEVICE: Activlink insole|OTHER: Activlink Phone Application            3\n",
            "                                                                                                                                                                                                                                                                                                                                                                                                             BEHAVIORAL: Physical Activity Condition            3\n",
            "                                                                                                                                                                                                                                                                                                                                      DEVICE: Body weight support system control group|DEVICE: Body weight support system with balance perturbations            3\n",
            "                                                                                                                                                                                                                                                                                                                    BEHAVIORAL: Speed of processing training|BEHAVIORAL: MIND foods|BEHAVIORAL: Cognitive training control|BEHAVIORAL: Control foods            3\n",
            "                                                                                                                                                                                                                                                                                                                                        BEHAVIORAL: Motivational behavioural intervention and daily activities monitoring|BEHAVIORAL: Active Control            3\n",
            "                                                                                                                                                                                                                                                                                                                                                                                                         BEHAVIORAL: Telephone-delivered Mindfulness            3\n",
            "                                                                                                                                                                                                                                                                                                                                DIETARY_SUPPLEMENT: Linoleic Acid|DIETARY_SUPPLEMENT: Docosahexaenoic Acid|DIETARY_SUPPLEMENT: Eicosapentaenoic Acid            2\n",
            "                                                                                                                                                                                                                   BEHAVIORAL: Coach Share On|BEHAVIORAL: Group Share On|BEHAVIORAL: Friend/Family Share On|BEHAVIORAL: Coach Share Off|BEHAVIORAL: Group Share Off|BEHAVIORAL: Friend/Family Share Off|BEHAVIORAL: Behavioral Weight Loss Treatment            2\n",
            "                                                                                                                                                                                                                                                                                                                                              BEHAVIORAL: weight loss intervention - self directed|BEHAVIORAL: weight loss intervention - peer coach            2\n",
            "                                                                                                                                                                                                                                                                                                                                                                                                    BEHAVIORAL: Calorie-counting|BEHAVIORAL: MyPlate            2\n",
            "                                                                                                                                                                                                                                                                                                                                                                      COMBINATION_PRODUCT: Lark (JITAI)|COMBINATION_PRODUCT: MyFitnessPal (no JITAI)            2\n",
            "                                                                                                                                                                                                                                                                                                                               BEHAVIORAL: The Healthy Living Program/La Vida Saludable|BEHAVIORAL: Recommended Treatment of Obesity in Primary Care            2\n",
            "                                                                                                                                                                                                                                                                                                                                                                                         BEHAVIORAL: Internet Only|BEHAVIORAL: Internet + Incentives            2\n",
            "                                                                                                                                                                                                                                                                                                                                                                                                          DEVICE: Desk Only|BEHAVIORAL: Program Only            2\n",
            "                                                                                                                                                                                                                                                                                                BEHAVIORAL: Behavioral weight loss followed by yoga instruction|BEHAVIORAL: Behavioral weight loss followed by cooking/dietary education instruction            2\n",
            "                                                                                                                                                                                                                                                                                                                                                       DEVICE: ECAL Indirect Calorimeter|BEHAVIORAL: Diet, exercise & behaviour modification therapy            2\n",
            "                                                                                                                                                                                                                                                                                                                                                                                                      DEVICE: Intermittent Hypoxia (IH)|DEVICE: SHAM            2\n",
            "                                                                                                                                                                                                                                                                                                                                             BEHAVIORAL: Standard behavioral weight loss program|BEHAVIORAL: Tailored behavioral weight loss program            2\n",
            "                                                                                                                                                                                                                                                                                                                                                                                                          OTHER: Online home-based strength training            2\n",
            "                                                                                                                                                                                                                                                                                                                                                                                   BEHAVIORAL: COACH: Healthy Bodies|BEHAVIORAL: COACH: Strong Minds            2\n",
            "                                                                                                                                                                                                                                                                                                                                                                                                              DRUG: Liraglutide|BEHAVIORAL: Exercise            2\n",
            "                                                                                                                                                                                                                                                                                                                                                                                                                          BEHAVIORAL: Guided Imagery            2\n",
            "                                                                                                                                                                                                                                                                                                                                                                                                                             BEHAVIORAL: JOIN for ME            2\n",
            "                                                                                                                                                                                                                                                                                                                                                                                                  BEHAVIORAL: Connect Social Mechanisms Intervention            2\n",
            "                                                                                                                                                                                                                                                                               BEHAVIORAL: Parenting Mindfully for Health Nutrition (PMH)|BEHAVIORAL: Contact Control Nutrition (C+N)|OTHER: Non-randomized historical control (WLC) assessment only            2\n",
            "                                                                                                                                                                                                                                                                                                                                                                                              BEHAVIORAL: ACT Intervention|BEHAVIORAL: Standard Care            2\n",
            "                                                                                                                                                                                                                                                                                                                                                                                                                       BEHAVIORAL: Exercise training            2\n",
            "                                                                                                                                                                                                                                                                                                                                                                                                             BEHAVIORAL: FBT|BEHAVIORAL: FBT+Variety            2\n",
            "                                                                                                                                                                                                                                                                                                                                                                                     BEHAVIORAL: Interpersonal Psychotherapy|OTHER: Health Education            2\n",
            "                                                                                                                                                                                                                                                                                                                                                                                      BEHAVIORAL: Online Lifestyle Intervention|OTHER: Control Group            2\n",
            "                                                                                                                                                                                                                                                                                                                                                                                                                     BEHAVIORAL: Calorie restriction            2\n",
            "                                                                                                                                                                                                                                                                                                                                                                                    OTHER: web based training,individual counseling, using reminders            2\n",
            "                                                                                                                                                                                                                                                                                                                                                                                         DEVICE: Vestibular Nerve Stimulator|DEVICE: Sham stimulator            2\n",
            "                                                                                                                                                                                                                                                                                                                                                                                        OTHER: \"Grab-and-Go\" meal plan|OTHER: \"Jump-Start\" meal plan            2\n",
            "                                                                                                                                                                                                                                                                                                                                                                                                        BEHAVIORAL: App Promoting Healthy Behaviours            2\n",
            "                                                                                                                                                                                                                                                                                                                                                                                           BEHAVIORAL: Family-based treatment|BEHAVIORAL: Usual Care            2\n",
            "                                                                                                                                                                                                                                                                                                                                                                                                                    BEHAVIORAL: NU-HOME Intervention            2\n",
            "                                                                                                                                                                                                                                                                                                                                                                                       BEHAVIORAL: Parents as Coaches|BEHAVIORAL: Parent Weight Loss            2\n",
            "                                                                                                                                                                                                                                                                                                                              BEHAVIORAL: Behavioral weight loss therapy|BEHAVIORAL: Portion-controlled meals|BEHAVIORAL: Acceptance-based treatment            2\n",
            "                                                                                                                                                                                                                                                                                                                                                                                                                             BEHAVIORAL: PCIT-Health            2\n",
            "                                                                                                                                                                                                                                                                                                                                                                                                                  OTHER: HIIT + POE|OTHER: HIIT only            2\n",
            "                                                                                                                                                                                                                                                                                                                                                                                                 DRUG: Fentanyl|DRUG: Morphine|DRUG: Dexmedetomidine            2\n",
            "                                                                                                                                                                                                                                                                                       BEHAVIORAL: High dosage in-person exercise coaching|BEHAVIORAL: Medium dosage in-person exercise coaching.|BEHAVIORAL: Low dosage in-person exercise coaching            2\n",
            "                                                                                                                                                                                                                                                                                                                                                                                                                    OTHER: Adapted physical activity            2\n",
            "                                                                                                                                                                                                                                                                                                                                                                                                                     BEHAVIORAL: Legacy Intervention            2\n",
            "                                                                                                                                                                                                                                                                                                                                                                                        BEHAVIORAL: Enhanced Go NAPSACC|BEHAVIORAL: Basic Go NAPSACC            2\n",
            "                                                                                                                                                                                                                                                                                                                                                                                                         DEVICE: Kurbo|DEVICE: Personal Health Coach            2\n",
            "                                                                                                                                                                                                                                                                                                                                             BEHAVIORAL: Fasting-mimicking diet (FMD)|BEHAVIORAL: Longevity Diet (LD) + Fasting-mimicking Diet (FMD)            2\n",
            "                                                                                                                                                                                                                                                                                                                                                                    BEHAVIORAL: Reduced Calorie Diet (RCD)|BEHAVIORAL: Time Restricted Feeding (TRF)            2\n",
            "                                                                                                                                                                                                                                                                                                                                                                                                                                     OTHER: ExeRTiOn            2\n",
            "BEHAVIORAL: Approach-Avoidance Bias Modification|BEHAVIORAL: Inhibition Training|BEHAVIORAL: Implementation of Intentions|BEHAVIORAL: Episodic Future Thinking|BEHAVIORAL: Sham Approach-Avoidance Bias Modification|BEHAVIORAL: Sham Inhibition Treatment|BEHAVIORAL: Setting Intentions|BEHAVIORAL: Recent Episodic Thinking|BEHAVIORAL: Motivational Interviewing|BEHAVIORAL: Nutritional intervention|BEHAVIORAL: Physical exercise intervention            2\n",
            "                                                                                                                                                                                                                                                                                                                                                                                         DIETARY_SUPPLEMENT: Beetroot Juice|OTHER: Exercise Training            2\n",
            "                                                                                                                                                                                                                                                                                                                                                                                                        DRUG: [c11] raclopride|DRUG: [18F]fallypride            2\n",
            "                                                                                                                                                                                                                                                                                                                     BEHAVIORAL: The Papás Saludables, Niños Saludables Program|BEHAVIORAL: The Papás Saludables, Niños Saludables Wait-list Control            2\n",
            "                                                                                                                                                                                                                                                                                                                                                                     BEHAVIORAL: Partner-assisted intervention|BEHAVIORAL: Patient-only intervention            2\n",
            "                                                                                                                                                                                                                                                                                                                                                                                                    OTHER: Healthy Detours App|OTHER: Fat Secret App            2\n",
            "                                                                                                                                                                                                                                                                                                                                                                                               BEHAVIORAL: Caregiver Praise|BEHAVIORAL: Gamification            2\n",
            "                                                                                                                                                                         OTHER: DGA diet WL & exercise|OTHER: DGA diet WL & no exercise|OTHER: DGA diet WM & exercise|OTHER: DGA diet WM & no exercise|OTHER: Western diet WL & exercise|OTHER: Western diet WL & no exercise|OTHER: Western diet WM & exercise|OTHER: Western diet WM & no exercise            2\n",
            "                                                                                                                                                                                                                                                                                                                                                                                         BEHAVIORAL: health coaching|BEHAVIORAL: community screening            2\n",
            "                                                                                                                                                                                                                                                                                                                                                                                                   BEHAVIORAL: MATADORS|BEHAVIORAL: MATADORS Control            2\n",
            "                                                                                                                                                                                                        BEHAVIORAL: 12 Telephone Coaching Sessions|BEHAVIORAL: 24 Telephone Coaching Sessions|BEHAVIORAL: Report to Primary Care Physician|BEHAVIORAL: Text Messages|BEHAVIORAL: Recommendations to use meal replacements|BEHAVIORAL: Buddy Training            2\n",
            "                                                                                                                                                                                                                                                                                                                                                                      BEHAVIORAL: Active Intervention - Cooking|BEHAVIORAL: Demonstrations - Cooking            2\n",
            "                                                                                                                                                                                                                                                                                                                                                                 BEHAVIORAL: Healthy Weight for Living (HWL)|BEHAVIORAL: Current Best Practice (CBP)            2\n",
            "                                                                                                                                                                                                                                                                                                                                     BEHAVIORAL: Brenner mFIT (standard care)|BEHAVIORAL: Brenner mFIT (standard care plus mobile health components)            2\n",
            "                                                                                                                                                                                                                                                                                                                                                     BEHAVIORAL: Values alignment wise intervention|BEHAVIORAL: Educational traditional intervention            2\n",
            "                                                                                                                                                                                                                                                                                                                                 BEHAVIORAL: Internet-based weight loss program|BEHAVIORAL: Brief phone coaching|BEHAVIORAL: Extended phone coaching            2\n",
            "                                                                                                                                                                                                                                                                                                                                                                                                               BEHAVIORAL: Portion size manipulation            2\n",
            "                                                                                                                                                                                                                                                                                                                                                                                                                        BEHAVIORAL: Eating Condition            2\n",
            "                                                                                                                                                                                                                                                                                                                                                     OTHER: Multidisciplinary weight loss program|OTHER: Standard Care|DRUG: Metformin Hcl 850Mg Tab            2\n",
            "                                                                                                                                                                                                                                                                                                                                                                                                                       DRUG: Tadalafil|DRUG: Placebo            2\n",
            "                                                                                                                                                                                                                                                                                                                                                                                                                   BEHAVIORAL: GameDay Ready Program            2\n",
            "                                                                                                                                                                                                                                                                                                                                                                                   OTHER: Exercise intervention|OTHER: Delayed exercise intervention            2\n",
            "                                                                                                                                                                                                                                                                                                                                                                 BEHAVIORAL: Observation Group participants|BEHAVIORAL: Lifestyle group participants            2\n",
            "                                                                                                                                                                                                                                                                                                                                                                                                     BEHAVIORAL: Fit & Strong!|BEHAVIORAL: Wait list            2\n",
            "                                                                                                                                                                                                                                                                                                                                                                            PROCEDURE: Therapeutic Exercise|PROCEDURE: Occupation-Based Intervention            2\n",
            "                                                                                                                                                                                                                                                                                                                                                                                          BEHAVIORAL: Caregiver problem-solving|OTHER: Standard Care            2\n",
            "                                                                                                                                                                                                                                                                                                                        DEVICE: Soleus loading response in able-bodied participants|DEVICE: Soleus loading response in participants with hemiparesis            2\n",
            "                                                                                                                                                                                                                                                                                                                                                                                                              BEHAVIORAL: Participatory intervention            2\n",
            "                                                                                                                                                                                                                                                                                                                                                                                       DRUG: Albuterol Sulfate|BEHAVIORAL: Interval Warm-up exercise            2\n",
            "                                                                                                                                                                                                                                                                                                                                                            DRUG: Phentermine-Topiramate Extended Release|DRUG: Placebo|OTHER: Online support system            2\n",
            "                                                                                                                                                                                                                                                                                                                                                                                                                                BEHAVIORAL: exericse            2\n",
            "                                                                                                                                                                                                                                                                                                                                                                                         BEHAVIORAL: Mindfulness Based Eating and Awareness Training            2\n",
            "                                                                                                                                                                                                                                                                                                                                                              BEHAVIORAL: TOSS Feasibility + Fitbit Community = Reduced Obesity in Older Black Women            2\n",
            "                                                                                                                                                                                                                                                                                                                                                                                                  BEHAVIORAL: Nutritional and physical interventions            2\n",
            "                                                                                                                                                                                                                                                                                                                       OTHER: High-intensity cardiovascular and resistance exercise|OTHER: Moderate-intensity cardiovascular and resistance exercise            2\n",
            "                                                                                                                                                                                                                                                         BEHAVIORAL: Develop & Refine MOWI w/o Amulet|BEHAVIORAL: MOWI Weight Loss Maintenance|BEHAVIORAL: Develop & Refine MOWI w Fitbit|DIETARY_SUPPLEMENT: Develop & Refine MOWI w Fitbit/Protein            2\n",
            "                                                                                                                                                                                                                                                                                                                                                                  BEHAVIORAL: Affect and physical activity|BEHAVIORAL: Physical activity information            2\n",
            "                                                                                                                                                                                                                                                                                                                                                                                            OTHER: breakfast with coffee|OTHER: breakfast with water            2\n",
            "                                                                                                                                                                                                                                                                                                                                                                                            BEHAVIORAL: Intervention group|BEHAVIORAL: Control group            2\n",
            "                                                                                                                                                                                                                                                                                                                                                                                                                                         OTHER: HIIT            2\n",
            "                                                                                                                                                                                                                                                                                                                                                                     DRUG: GnRH agonist|BEHAVIORAL: Supervised cardiovascular exercise|DRUG: Placebo            2\n",
            "                                                                                                                                                                                                                                                                                                                                                                                                                  BEHAVIORAL: Education and Behavior            2\n",
            "                                                                                                                                                                                                                                                                                                                                                     BEHAVIORAL: High-Intensity Interval Training|BEHAVIORAL: Moderate-Intensity Continuous Training            2\n",
            "                                                                                                                                                                                                                                                                                                    BEHAVIORAL: the iAmHealthy Behavioral Intervention|BEHAVIORAL: Newsletter only arm|OTHER: Consecutive Recruitment|OTHER: Traditional Recruitment            2\n",
            "                                                                                                           DIETARY_SUPPLEMENT: Black Cherry and Orange Flavored Beverage with added sugar|DIETARY_SUPPLEMENT: Strawberry Kiwi &Lemonade Flavored Beverage with added sugar|DIETARY_SUPPLEMENT: Black Cherry and Orange Flavored Beverage no added sugar|DIETARY_SUPPLEMENT: Strawberry Kiwi & Lemonade Flavored Beverage no added sugar|OTHER: Water            2\n",
            "                                                                                                                                                                                                                                                                                                                                                                                                BEHAVIORAL: Internet Wellness Intervention for Aging            2\n",
            "                                                                                                                                                                                                                                                                                                                                                                          BEHAVIORAL: Behavioral Weight Loss|BEHAVIORAL: Diet and Exercise Education            2\n",
            "                                                                                                                                                                                                                                                                                                                                                                                                                      OTHER: Summer activity program            2\n",
            "                                                                                                                                                                                                                                                                                                                                                                                                          OTHER: Positive Reinforcement Text Message            2\n",
            "                                                                                                                                                                                                                                                                                                                                                                         BEHAVIORAL: Weight discrimination experience|BEHAVIORAL: Control experience            2\n",
            "                                                                                                                                                                                                                                                                                                                                                                           BEHAVIORAL: TEENS+Parents as Coaches|BEHAVIORAL: TEENS+Parent Weight Loss            2\n",
            "                                                                                                                                                                                                                                                                                                                             BEHAVIORAL: Behavioral Weight Loss (BWL)|BEHAVIORAL: BWL + Autonomous Motivation|BEHAVIORAL: BWL + Extrinsic Motivation            2\n",
            "                                                                                                                                                                                                                                                                                                                                                                                                DIETARY_SUPPLEMENT: Placebo|DIETARY_SUPPLEMENT: EMIQ            2\n",
            "                                                                                                                                                                                                                                                                                                                                                                                                                      BEHAVIORAL: ARTEMIS mobile app            2\n",
            "                                                                                                                                                                                     OTHER: A zero impedance mode, controlling a wearable bilateral hip exoskeleton|OTHER: A personalized optimal assistance mode, controlling a wearable bilateral hip exoskeleton|OTHER: A free walking mode, without wearing a wearable bilateral hip exoskeleton            2\n",
            "                                                                                                                                                                                                                                                                                                                                                                                                      DEVICE: Head-Mounted Visual Enhancement Device            2\n",
            "                                                                                                                                                                                                                                                                                                                                                                                                                  DRUG: AGB101 220 mg|OTHER: Placebo            2\n",
            "                                                                                                                                                                                                                                          DRUG: Sodium butyrate, 1-13C, 99%, Cambridge Isotope Laboratories, Inc.USA|DRUG: U-13C6, 99%; Cambridge Isotope Laboratories, Inc.USA|DIAGNOSTIC_TEST: Breath test|DIAGNOSTIC_TEST: Exercise + breath test            2\n",
            "                                                                                                                                                                                                                                                                                                                                                                                                         DEVICE: EMS Device On|OTHER: EMS Device Off            2\n",
            "                                                                                                                                                                                                                                                                                                                                                                                         DRUG: Cannabis|DRUG: Cannabis|DRUG: Cannabis|DRUG: Cannabis            2\n",
            "                                                                                                                                                                                                                                                                                                                                                                                                                  BEHAVIORAL: Lifestyle Modification            2\n",
            "                                                                                                                                                                                                                                                                                                                                                                                                                                    DRUG: Fluoxetine            2\n",
            "                                                                                                                                                                                                                                                                                                                                                                                   BEHAVIORAL: Information on CVD Risk|BEHAVIORAL: Lottery Incentive            2\n",
            "                                                                                                                                                                                                                                                            BEHAVIORAL: Comprehensive Dietary Self-Monitoring; Device: smartphone; Other: physical activity|BEHAVIORAL: Simple Dietary Self-Monitoring; Device: smartphone; Other: physical activity            2\n",
            "                                                                                                                                                                                                                       DRUG: Eplerenone|DRUG: Amlodipine|PROCEDURE: Microneurography|PROCEDURE: Rhythmic handgrip exercise|PROCEDURE: Sustained hand grip|PROCEDURE: Forearm blood flow|PROCEDURE: Arm cycling exercise|PROCEDURE: Cold Pressor test            2\n",
            "                                                                                                                                                                                                                                                                                                                                                                                                                              BEHAVIORAL: FAITH! App            2\n",
            "                                                                                                                                                                                                                                                                                                                                                          BEHAVIORAL: Personalized Health Recommendations|BEHAVIORAL: Generic Health Recommendations            2\n",
            "                                                                                                                                                                                                                                                                                                                                                                                                                          BEHAVIORAL: E-intervention            2\n",
            "                                                                                                                                                                                                                                                                                                                                                                                   OTHER: High Intensity Interval Training|OTHER: Peanut Consumption            2\n",
            "                                                                                                                                                                                                                                                                                                                                                                                                                    OTHER: High-intensity exergaming            2\n",
            "                                                                                                                                                                                                                                                                                                                                                                                  OTHER: HIGT - physical rehab|OTHER: Low intensity physical therapy            2\n",
            "                                                                                                                                                                                                                                                                                                                                                                                                        BEHAVIORAL: Exercise|BEHAVIORAL: No exercise            2\n",
            "                                                                                                                                                                                                                                                                                                                                                                   BEHAVIORAL: Exercise training and healthy eating (overseen by IEEM research team)            2\n",
            "                                                                                                                                                                                                                                                                                                                                OTHER: Maximal oxygen consumption (V02 max)|OTHER: Brown adipose tissue (BAT) imaging|OTHER: Muscle function testing            2\n",
            "                                                                                                                                                                                                                                                                                                                                                            BEHAVIORAL: Education, Physical Activity, and Stress Management Program|OTHER: Wait-list            2\n",
            "                                                                                                                                                                                                                                                                                                                                                                                                           DRUG: Fasudil Hydrochloride|OTHER: Saline            2\n",
            "                                                                                                                                                                                                                                                                                                                                                                     BEHAVIORAL: Sleep Advancement Counseling|BEHAVIORAL: General Health Information            2\n",
            "                                                                                                                                                                                                                                                                                                                                                                                                                          BEHAVIORAL: #HerHeart tool            2\n",
            "                                                                                                                                                                                                                                                                                                                                                                                             DRUG: Clonidine|DRUG: Hydrochlorothiazide|DRUG: Placebo            2\n",
            "                                                                                                                                                                                                                                                                                                                                                                                                                     DRUG: Liraglutide|DRUG: Placebo            2\n",
            "                                                                                                                                                                                                                                                                                                                                                                                                                 DIETARY_SUPPLEMENT: Lipid Challenge            2\n",
            "                                                                                                                                                                                                                                                                                                                                                          OTHER: Simulated heatwave exposure|OTHER: Simulated heatwave exposure with mid-day cooling            2\n",
            "                                                                                                                                                                                                                                                                                                                                                                                                OTHER: Shifts working hours with different schedules            2\n",
            "                                                                                                                                                                                                                                                                                                                                                                    DRUG: Leuprolide acetate|DRUG: Estradiol|DRUG: Medroxyprogesterone|DRUG: Placebo            2\n",
            "                                                                                                                                                                                                                                                                                                                                                                                 BEHAVIORAL: Circuit Training exercise & Modified Mediterranean diet            2\n",
            "                                                                                                                                                                                                                                                                                                                                                                                  OTHER: Decision-aid for cardiovascular disease risk|OTHER: Control            2\n",
            "                                                                                                                                                                                                                                                                                                                                                                              BEHAVIORAL: Exercise Training effect on Hypertension and Gut Dysbiosis            2\n",
            "                                                                                                                                                                                                                                                                                                                                                                                                                            BEHAVIORAL: ActivityLink            2\n",
            "                                                                                                                                                                                                                                                                                                                                   BEHAVIORAL: aerobic exercise|BEHAVIORAL: resistance exercise|BEHAVIORAL: Combined resistance and aerobic exercise            2\n",
            "                                                                                                                                                                                                                                                                                                                                                           BEHAVIORAL: Intervention on DCP3 based strategies for Hypertension Management and Control            2\n",
            "                                                                                                                                                                                                                                                                                                                                                                                                  DRUG: control fish oil|DRUG: LCMUFA-rich saury oil            2\n",
            "                                                                                                                                                                                                                                                                                                                                                                                          BEHAVIORAL: Coachman|BEHAVIORAL: Enhanced Usual Care (EUC)            2\n",
            "                                                                                                                                                                                                                                                                                                       OTHER: Exercise capacity VO2 max determination|DIETARY_SUPPLEMENT: Standardized meals|OTHER: Exercise challenge|DRUG: Metoprolol Succinate ER            2\n",
            "                                                                                                                                                                                                                                                                                                  DEVICE: Electronic remote blood pressure monitor|DEVICE: Ordinary household electronic sphygmomanometer|DEVICE: Office electronic sphygmomanometer            2\n",
            "                                                                                                                                                                                                                                                                                                                                                                                      DRUG: Atabecestat, 5 mg|DRUG: Atabecestat, 25 mg|DRUG: Placebo            2\n",
            "                                                                                                                                                                                                                                                                                                                                                                                                                   BEHAVIORAL: Mind|BEHAVIORAL: Move            2\n",
            "                                                                                                                                                                                                                                                                                                                                                                                                         DRUG: [18F]RP-115 PET/MRI or PET/CT and MRI            2\n",
            "                                                                                                                                                                                                                                                                                                                                                                                                                                      DRUG: Rapamune            2\n",
            "                                                                                                                                                                                                                                                                                                                                                                                              DEVICE: transcranial direct current stimulation (tDCS)            2\n",
            "                                                                                                                                                                                                                                                                                                                                                                                                                          DIAGNOSTIC_TEST: [18F]GTP1            2\n",
            "                                                                                                                                                                                                                                                                                                                                                                                                                                  DRUG: [11C]MK-6884            2\n",
            "                                                                                                                                                                                                                                                                                                                                                                         PROCEDURE: Unicondylar Knee Arthroplasty|PROCEDURE: Total Knee Arthroplasty            2\n",
            "                                                                                                                                                                                                                                                                                                                                   PROCEDURE: Acupressure and Standardized Curcuminoid from Turmeric Extract|PROCEDURE: Sham Acupressure and Placebo            2\n",
            "                                                                                                                                                                                                                                                                                                                                                                                                 BEHAVIORAL: High intensity interval training (HIIT)            2\n",
            "                                                                                                                                                                                                                                                                                                                                                                                  PROCEDURE: Initial graft tension during ACL reconstruction surgery            2\n",
            "                                                                                                                                                                                                                                                                                                                                                                                                              OTHER: Wedge Insert|OTHER: Flat Insert            2\n",
            "                                                                                                                                                                                                                                                                                                                                                                                                               DEVICE: Visionaire|OTHER: Traditional            2\n",
            "                                                                                                                                                                                                                                                                                                                                                                                                    OTHER: Core Activation|OTHER: Core Stabilization            2\n",
            "                                                                                                                                                                                                                                                                                                                                                                                     OTHER: Altoida: neuropsychological, MRI, EEG and CSF biomarkers            2\n",
            "                                                                                                                                                                                                                                                                                                                                                                                    BEHAVIORAL: multi-component/setting parent-targeted intervention            2\n",
            "                                                                                                                                                                                                                                                                                                                                                                                                                BEHAVIORAL: Evaluate home-based MOWI            2\n",
            "                                                                                                                                                                                                                                                                                                                                                                                                                         BEHAVIORAL: Prevention Plus            2\n",
            "                                                                                                                                                                                                                                                                                                                                                                                 BEHAVIORAL: iAmHealthy Healthy Lifestyles Program|OTHER: Newsletter            2\n",
            "                                                                                                                                                                                                                                                                                                                                                                                                  BEHAVIORAL: Goal-Oriented Episodic Future Thinking            2\n",
            "                                                                                                                                                                                             BEHAVIORAL: Exposure to calorie information|BEHAVIORAL: Exposure to healthy labels only|BEHAVIORAL: Exposure to healthiness information|BEHAVIORAL: Exposure to physical activity equivalents|BEHAVIORAL: Exposure to \"high in\" nutrient warning labels            2\n",
            "                                                                                                                                                                                                                                                                                                                                                                                       DEVICE: In-home technology|DEVICE: Limited in-home technology            2\n",
            "                                                                                                                                                                                                                                                                                                                                                                                                                 BEHAVIORAL: Behavioral Intervention            2\n",
            "                                                                                                                                                                                                                                                                                                                           DEVICE: In-Home Technology System and Questionnaires|DEVICE: Waiting Control In-Home Technology System and Questionnaires            2\n",
            "                                                                                                                                                                                                                                                                                                                                                                                                                                BEHAVIORAL: Coaching            2\n",
            "                                                                                                                                                                                                                                                                                                                                                                                                            OTHER: Remote activity monitoring system            2\n",
            "                                                                                                                                                                                                                                                                                 BEHAVIORAL: MiCAP with IF (Main Study)|BEHAVIORAL: MiCAP with IF and EF (Main Study)|BEHAVIORAL: MiCAP with IF and Caregiver Engagement (Administrative Supplement)            2\n",
            "                                                                                                                                                                                                                                                                                                                                                                                                                       DRUG: Melatonin|DRUG: Placebo            2\n",
            "                                                                                                                                                                                                                                                                                                                                                                                                                       BEHAVIORAL: Water Up! at Home            2\n",
            "                                                                                                                                                                                                                                                                                                                                                                                                         DRUG: GSK2256294|DRUG: Placebo oral capsule            2\n",
            "                                                                                                                                                                                                                                                                                                                                     DRUG: Gantenerumab|DRUG: Solanezumab|DRUG: Matching Placebo (Gantenerumab)|DRUG: Matching Placebo (Solanezumab)            2\n",
            "                                                                                                                                                                                                                                                                                                                                                                                                                                BEHAVIORAL: TMU-LOVE            2\n",
            "                                                                                                                                                                                                                                                                                                                                                                             DRUG: florbetapir F 18|DRUG: Flortaucipir F18|PROCEDURE: Brain PET Scan            2\n",
            "                                                                                                                                                                                                                                                                                                                                                                   DRUG: Sitagliptin|DRUG: Pegvisomant|DRUG: Placebo|DRUG: L-NMMA|DRUG: Exendin 9-39            1\n",
            "                                                                                                                                                                                                                                                                                                         DRUG: PF-06882961 followed by PF-06882961/PF-06865571|DRUG: PF-06882961/PF-06865571 followed by PF-06882961|DRUG: PF-06882961 + PF-06865571            1\n",
            "                                                                                                                                                                                                                                                                                                                                                                                      BEHAVIORAL: Optimisation + HENRY|BEHAVIORAL: HENRY as standard            1\n",
            "                                                                                                                                                                                                                                                                                                                                                                         GENETIC: WES|DIAGNOSTIC_TEST: MRI|DIAGNOSTIC_TEST: TTE|OTHER: Questionnaire            1\n",
            "                                                                                                                                                                                                                                           DEVICE: Device: Active Transcranial Direct Current Stimulation (tDCS) coupled with cognitive training|DEVICE: Device: Sham Transcranial Direct Current Stimulation (tDCS) coupled with cognitive training            1\n",
            "                                                                                               DIAGNOSTIC_TEST: PET Scan|DIETARY_SUPPLEMENT: Mixed Meal Test|DIAGNOSTIC_TEST: Muscle sympathetic nerve activity (MSNA)|DIAGNOSTIC_TEST: Oral Glucose Tolerance Test|OTHER: Body Composition, Percent Body Fat & Percent Body Water (Tanita scale)|DIAGNOSTIC_TEST: CT Scan|OTHER: Body Composition, Percent Body Fat & Percent Body Water (DXA Scan)            1\n",
            "                                                                                                                                                                                                                                                                                                                                                                         DRUG: Galantamine|DRUG: Placebo Oral Capsule|DRUG: Intralipid|DRUG: Heparin            1\n",
            "                                                                                                                                                                                                                                                                                                                                                                           BEHAVIORAL: Sustained attention|BEHAVIORAL: media multi-task|OTHER: Video            1\n",
            "                                                                                                                                                                                                                                                                                                                                     OTHER: 1. Health Services Redesign|OTHER: 2. Clinical Staff Training|OTHER: 3. Patient and Community Engagement            1\n",
            "                                                                                                                                                                                                                                                                                                                                                                                                                       DRUG: Carbidopa|DRUG: Placebo            1\n",
            "                                                                                                                                                                                                                                                                                                                                                         DIETARY_SUPPLEMENT: Menaquinone-7 (MK-7) tablet (333 µg)|DIETARY_SUPPLEMENT: Placebo tablet            1\n",
            "                                                                                                                                                                                                                                                                                                                                                                                             DIETARY_SUPPLEMENT: Q-actin|DIETARY_SUPPLEMENT: Placebo            1\n",
            "                                                                                                                                                                                                                                                                                                                                                                                                    BEHAVIORAL: CTC Intervention|BEHAVIORAL: Control            1\n",
            "                                                                                                                                BEHAVIORAL: Provider Audit-Feedback, Stratified by Race and Ethnicity|BEHAVIORAL: Blood Pressure Measurement Standardization|BEHAVIORAL: System Level Leadership Intervention|BEHAVIORAL: Collaborative Care Team Intervention|BEHAVIORAL: Community Health Worker Referral|BEHAVIORAL: Specialist Care Consultation            1\n",
            "                                                                                                                                                                                                                                                                                                                                                                               DRUG: GnRH antagonist|DRUG: GnRH antagonist + MethylTESTOSTERone 5 MG            1\n",
            "                                                                                                                                                                                                                                                                                                                                                                                                           DRUG: Low dose methotrexate|DRUG: Placebo            1\n",
            "                                                                                                                                                                                                                                                                                                                                                                                                                       DRUG: Sequential Gas Delivery            1\n",
            "                                                                                                                                                                                                                                                                                                                                                                                                                   DRUG: TNF inhibitors|DRUG: DMARDs            1\n",
            "                                                                                                                                                                                                                                                                                                                                                                                                                                       DEVICE: CRT-D            1\n",
            "                                                                                                                                                                                                                                                                                                                                                                                                                                       DRUG: Forxiga            1\n",
            "                                                                                                                                                                                                                                                                                                                                                    DIETARY_SUPPLEMENT: PolyResveratrol Supplementation|DIETARY_SUPPLEMENT: Curcumin Supplementation            1\n",
            "                                                                                                                                                                                                                                                                                                                                                                                                                           BEHAVIORAL: 2 Feet 4 Life            1\n",
            "                                                                                                                                                                                                                                                                                                                                                                                                      DRUG: MetFORMIN Hydrochloride ER|DRUG: Placebo            1\n",
            "                                                                                                  DIAGNOSTIC_TEST: Research MRI without administration of intravenous secretin|DIAGNOSTIC_TEST: Research MRI with administration of intravenous secretin|GENETIC: Genetic Sequencing|DIAGNOSTIC_TEST: Blood Tests|DIAGNOSTIC_TEST: Stool Tests|OTHER: Survey Completion|DIAGNOSTIC_TEST: Endoscopic pancreatic function tests (ePFTs)|DRUG: Secretin            1\n",
            "                                                                                                                                                                                                                                                                                                                                                 DEVICE: myTAP oral appliance plus mouth shield|DEVICE: myTAP oral appliance alone for first 4 weeks            1\n",
            "                                                                                                                                                                                                                                                                                                                                                                                                     OTHER: Dissemination of public health knowledge            1\n",
            "                                                                                                                                                                                                                                                                                                                              DRUG: Albiglutide 50mg|DRUG: Albiglutide matching placebo|DRUG: Exenatide 10microgram|DRUG: Exenatide placebo (saline)            1\n",
            "                                                                                                                                                                                                                                                                                                                                                                                         DRUG: Glucophage® XR RM Test|DRUG: Glucophage® XR Reference            1\n",
            "                                                                                                                                                                                                                                                                                                                                                                                                                    RADIATION: 99mTc-rhAnnexin V-128            1\n",
            "                                                                                                                                                                                                                                                                                                                                                                                                     OTHER: Simulation-based Mastery Learning (SBML)            1\n",
            "                                                                                                                                                                                                                                                                                                                                                                                                                                    BEHAVIORAL: HHMB            1\n",
            "                                                                                                                                                                                                                                                                                                                                                                                                                                       DEVICE: taVNS            1\n",
            "                                                                                                                                                                                                                                                                                                                                                                                                                     DRUG: Clopidogrel|DRUG: Aspirin            1\n",
            "                                                                                                                                                                                                                                                                                                                                                                                                                  DRUG: Test GIR|DRUG: Reference GIR            1\n",
            "                                                                                                                                                                                                                                                                                                                                                                                                     DRUG: Verinurad|DRUG: Placebo|DRUG: Allopurinol            1\n",
            "                                                                                                                                                                                                                                                                                                                                                                                                                          OTHER: Educational Support            1\n",
            "                                                                                                                                                                                                                                                                                                                                                                                      BEHAVIORAL: Low-Dose, High-Frequency Simulation-Based Training            1\n"
          ]
        }
      ]
    },
    {
      "cell_type": "code",
      "source": [
        "# Filter rows containing exercise-related interventions\n",
        "exercise_data = ct_data[clinical_trials_data['Interventions'].str.contains('Exercise', case=False, na=False)]\n"
      ],
      "metadata": {
        "id": "aVmQXpY6rURX",
        "colab": {
          "base_uri": "https://localhost:8080/"
        },
        "outputId": "186160ce-2f28-436c-ed3c-1dca57683901"
      },
      "execution_count": 115,
      "outputs": [
        {
          "output_type": "stream",
          "name": "stderr",
          "text": [
            "<ipython-input-115-8f33ec17bb68>:2: UserWarning: Boolean Series key will be reindexed to match DataFrame index.\n",
            "  exercise_data = ct_data[clinical_trials_data['Interventions'].str.contains('Exercise', case=False, na=False)]\n"
          ]
        }
      ]
    },
    {
      "cell_type": "code",
      "source": [
        "exercise_data.info()"
      ],
      "metadata": {
        "colab": {
          "base_uri": "https://localhost:8080/"
        },
        "id": "Tec192_VuDhq",
        "outputId": "28777e20-d0a8-4a91-87c3-21eee8f029a5"
      },
      "execution_count": 116,
      "outputs": [
        {
          "output_type": "stream",
          "name": "stdout",
          "text": [
            "<class 'pandas.core.frame.DataFrame'>\n",
            "Int64Index: 182 entries, 0 to 1062\n",
            "Data columns (total 17 columns):\n",
            " #   Column                      Non-Null Count  Dtype  \n",
            "---  ------                      --------------  -----  \n",
            " 0   NCT Number                  182 non-null    object \n",
            " 1   Conditions                  182 non-null    object \n",
            " 2   Interventions               182 non-null    object \n",
            " 3   Primary Outcome Measures    182 non-null    object \n",
            " 4   Secondary Outcome Measures  142 non-null    object \n",
            " 5   Other Outcome Measures      21 non-null     object \n",
            " 6   Sex                         182 non-null    object \n",
            " 7   Age                         182 non-null    object \n",
            " 8   Enrollment                  182 non-null    float64\n",
            " 9   Other IDs                   182 non-null    object \n",
            " 10  Total number of studies     0 non-null      object \n",
            " 11  1158                        0 non-null      object \n",
            " 12  Unnamed: 2                  0 non-null      float64\n",
            " 13  Unnamed: 3                  0 non-null      float64\n",
            " 14  Type Intervention           0 non-null      object \n",
            " 15  Unnamed: 5                  0 non-null      object \n",
            " 16  Total number of patients    0 non-null      float64\n",
            "dtypes: float64(4), object(13)\n",
            "memory usage: 25.6+ KB\n"
          ]
        }
      ]
    },
    {
      "cell_type": "markdown",
      "source": [
        "##feature selection and encoding"
      ],
      "metadata": {
        "id": "M512-2AeP-5L"
      }
    },
    {
      "cell_type": "code",
      "source": [
        "# Split 'Conditions' column into individual conditions\n",
        "conditions_split = exercise_data['Conditions'].str.split('|', expand=True)\n",
        "conditions_split.columns = [f'Condition_{i}' for i in range(1, conditions_split.shape[1] + 1)]\n",
        "\n",
        "# One-hot encode conditions\n",
        "conditions_encoded = pd.get_dummies(conditions_split, prefix='Condition')\n",
        "\n",
        "# Extract information about intervention types\n",
        "intervention_types = exercise_data['Interventions'].str.split(':', n=1, expand=True)[0]\n",
        "intervention_types_encoded = pd.get_dummies(intervention_types, prefix='Intervention')\n",
        "\n",
        "# Encode sex and age into numerical values\n",
        "sex_encoded = pd.get_dummies(exercise_data['Sex'], prefix='Sex')\n",
        "age_encoded = pd.get_dummies(exercise_data['Age'], prefix='Age')\n",
        "\n",
        "# Combine all encoded features\n",
        "exercise_features = pd.concat([conditions_encoded, intervention_types_encoded, sex_encoded, age_encoded], axis=1)\n",
        "\n",
        "# Display the engineered features\n",
        "print(exercise_features.head())\n"
      ],
      "metadata": {
        "id": "9UfbRQCxXoKP",
        "colab": {
          "base_uri": "https://localhost:8080/"
        },
        "outputId": "815c75b9-ec53-440c-df6b-9d8c1a5f3bec"
      },
      "execution_count": 117,
      "outputs": [
        {
          "output_type": "stream",
          "name": "stdout",
          "text": [
            "    Condition_Aging  Condition_Alzheimer Disease 2 Due to Apoe4 Isoform  \\\n",
            "0                 0                                                  0    \n",
            "3                 0                                                  1    \n",
            "4                 0                                                  0    \n",
            "7                 0                                                  0    \n",
            "11                0                                                  0    \n",
            "\n",
            "    Condition_Arthroplasty  Condition_Asthma in Children  \\\n",
            "0                        0                             0   \n",
            "3                        0                             0   \n",
            "4                        0                             0   \n",
            "7                        0                             0   \n",
            "11                       0                             0   \n",
            "\n",
            "    Condition_Cardiovascular Diseases  Condition_Cardiovascular Risk Factor  \\\n",
            "0                                   0                                     0   \n",
            "3                                   0                                     0   \n",
            "4                                   0                                     0   \n",
            "7                                   0                                     0   \n",
            "11                                  0                                     0   \n",
            "\n",
            "    Condition_Child Mental Disorders  Condition_Chronic Mesenteric Ischemia  \\\n",
            "0                                  0                                      0   \n",
            "3                                  0                                      0   \n",
            "4                                  0                                      0   \n",
            "7                                  0                                      0   \n",
            "11                                 0                                      0   \n",
            "\n",
            "    Condition_Cigarette Smoking  Condition_Cognitive Function, Preclinical  \\\n",
            "0                             0                                          0   \n",
            "3                             0                                          0   \n",
            "4                             0                                          0   \n",
            "7                             0                                          0   \n",
            "11                            0                                          1   \n",
            "\n",
            "    ...  Intervention_RADIATION  Sex_ALL  Sex_FEMALE  Sex_MALE  Age_ADULT  \\\n",
            "0   ...                       0        0           1         0          0   \n",
            "3   ...                       0        1           0         0          0   \n",
            "4   ...                       0        1           0         0          1   \n",
            "7   ...                       0        1           0         0          0   \n",
            "11  ...                       0        1           0         0          0   \n",
            "\n",
            "    Age_ADULT, OLDER_ADULT  Age_CHILD  Age_CHILD, ADULT  \\\n",
            "0                        0          1                 0   \n",
            "3                        0          0                 0   \n",
            "4                        0          0                 0   \n",
            "7                        1          0                 0   \n",
            "11                       1          0                 0   \n",
            "\n",
            "    Age_CHILD, ADULT, OLDER_ADULT  Age_OLDER_ADULT  \n",
            "0                               0                0  \n",
            "3                               0                1  \n",
            "4                               0                0  \n",
            "7                               0                0  \n",
            "11                              0                0  \n",
            "\n",
            "[5 rows x 96 columns]\n"
          ]
        }
      ]
    },
    {
      "cell_type": "markdown",
      "source": [
        "##Clustering\n",
        "\n",
        "Apply a clustering algorithm (e.g., K-means) to group similar participants based on their characteristics and exercise-related features.\n",
        "Determine the optimal number of clusters using techniques like the elbow method or silhouette analysis.\n",
        "Assign cluster labels to each participant in the dataset."
      ],
      "metadata": {
        "id": "BEUpY-RpQX8g"
      }
    },
    {
      "cell_type": "code",
      "source": [
        "from sklearn.cluster import KMeans\n",
        "\n",
        "X = exercise_features\n",
        "\n",
        "# Perform clustering\n",
        "kmeans = KMeans(n_clusters=3, random_state=42)\n",
        "clusters = kmeans.fit_predict(X)\n",
        "\n",
        "# Assign cluster labels to the exercise_data DataFrame\n",
        "exercise_data['Cluster'] = clusters"
      ],
      "metadata": {
        "colab": {
          "base_uri": "https://localhost:8080/"
        },
        "id": "ekIAvf_YCRH8",
        "outputId": "574c176e-0b13-4bd5-cd72-8c9609954c54"
      },
      "execution_count": 118,
      "outputs": [
        {
          "output_type": "stream",
          "name": "stderr",
          "text": [
            "/usr/local/lib/python3.10/dist-packages/sklearn/cluster/_kmeans.py:870: FutureWarning: The default value of `n_init` will change from 10 to 'auto' in 1.4. Set the value of `n_init` explicitly to suppress the warning\n",
            "  warnings.warn(\n",
            "<ipython-input-118-bd904e7ad891>:10: SettingWithCopyWarning: \n",
            "A value is trying to be set on a copy of a slice from a DataFrame.\n",
            "Try using .loc[row_indexer,col_indexer] = value instead\n",
            "\n",
            "See the caveats in the documentation: https://pandas.pydata.org/pandas-docs/stable/user_guide/indexing.html#returning-a-view-versus-a-copy\n",
            "  exercise_data['Cluster'] = clusters\n"
          ]
        }
      ]
    },
    {
      "cell_type": "markdown",
      "source": [
        "##Target Variable Creation\n",
        "\n",
        "Analyze the characteristics and exercise patterns of each cluster.\n",
        "Assign meaningful labels to each cluster based on their characteristics (e.g., \"highly active,\" \"moderately active,\" \"sedentary\").\n",
        "Create a new target variable in the dataset based on the assigned cluster labels."
      ],
      "metadata": {
        "id": "Yj3fZ6reQmkh"
      }
    },
    {
      "cell_type": "code",
      "source": [
        "# Assign meaningful labels to clusters\n",
        "cluster_labels = {\n",
        "    0: 'Highly Active',\n",
        "    1: 'Moderately Active',\n",
        "    2: 'Sedentary'\n",
        "}\n",
        "\n",
        "exercise_data['Target'] = exercise_data['Cluster'].map(cluster_labels)"
      ],
      "metadata": {
        "colab": {
          "base_uri": "https://localhost:8080/"
        },
        "id": "FXHEyqX3Dfum",
        "outputId": "ffeadfe3-9a54-4454-c68f-2bbc2f058bf3"
      },
      "execution_count": 119,
      "outputs": [
        {
          "output_type": "stream",
          "name": "stderr",
          "text": [
            "<ipython-input-119-f90af7e5dfd3>:8: SettingWithCopyWarning: \n",
            "A value is trying to be set on a copy of a slice from a DataFrame.\n",
            "Try using .loc[row_indexer,col_indexer] = value instead\n",
            "\n",
            "See the caveats in the documentation: https://pandas.pydata.org/pandas-docs/stable/user_guide/indexing.html#returning-a-view-versus-a-copy\n",
            "  exercise_data['Target'] = exercise_data['Cluster'].map(cluster_labels)\n"
          ]
        }
      ]
    },
    {
      "cell_type": "code",
      "source": [
        "exercise_data.info()"
      ],
      "metadata": {
        "colab": {
          "base_uri": "https://localhost:8080/"
        },
        "id": "ojYXHPmJEefO",
        "outputId": "6ed95333-7787-43d8-e7cf-79f02ef67514"
      },
      "execution_count": 120,
      "outputs": [
        {
          "output_type": "stream",
          "name": "stdout",
          "text": [
            "<class 'pandas.core.frame.DataFrame'>\n",
            "Int64Index: 182 entries, 0 to 1062\n",
            "Data columns (total 19 columns):\n",
            " #   Column                      Non-Null Count  Dtype  \n",
            "---  ------                      --------------  -----  \n",
            " 0   NCT Number                  182 non-null    object \n",
            " 1   Conditions                  182 non-null    object \n",
            " 2   Interventions               182 non-null    object \n",
            " 3   Primary Outcome Measures    182 non-null    object \n",
            " 4   Secondary Outcome Measures  142 non-null    object \n",
            " 5   Other Outcome Measures      21 non-null     object \n",
            " 6   Sex                         182 non-null    object \n",
            " 7   Age                         182 non-null    object \n",
            " 8   Enrollment                  182 non-null    float64\n",
            " 9   Other IDs                   182 non-null    object \n",
            " 10  Total number of studies     0 non-null      object \n",
            " 11  1158                        0 non-null      object \n",
            " 12  Unnamed: 2                  0 non-null      float64\n",
            " 13  Unnamed: 3                  0 non-null      float64\n",
            " 14  Type Intervention           0 non-null      object \n",
            " 15  Unnamed: 5                  0 non-null      object \n",
            " 16  Total number of patients    0 non-null      float64\n",
            " 17  Cluster                     182 non-null    int32  \n",
            " 18  Target                      182 non-null    object \n",
            "dtypes: float64(4), int32(1), object(14)\n",
            "memory usage: 27.7+ KB\n"
          ]
        }
      ]
    },
    {
      "cell_type": "markdown",
      "source": [
        "##Model Training and Evaluation\n",
        "\n",
        "Split the dataset into features (X) and the target variable (y).\n",
        "Train a predictive model (e.g., Random Forest) using the cluster-based target variable.\n",
        "Evaluate the model's performance using appropriate metrics and cross-validation techniques."
      ],
      "metadata": {
        "id": "epHi0ZMMQqWY"
      }
    },
    {
      "cell_type": "code",
      "source": [
        "from sklearn.compose import ColumnTransformer\n",
        "from sklearn.preprocessing import OneHotEncoder\n",
        "from sklearn.model_selection import train_test_split, cross_val_score\n",
        "from sklearn.ensemble import RandomForestClassifier\n",
        "from sklearn.metrics import accuracy_score, classification_report\n",
        "\n",
        "# Assuming 'exercise_data' contains your dataset\n",
        "\n",
        "# Separate features and target variable\n",
        "X = exercise_data.drop(['Target'], axis=1)\n",
        "y = exercise_data['Target']\n",
        "\n",
        "# Split the data into training and testing sets\n",
        "X_train, X_test, y_train, y_test = train_test_split(X, y, test_size=0.2, random_state=42)\n",
        "\n",
        "# Preprocess categorical features using OneHotEncoder\n",
        "categorical_features = X.select_dtypes(include=['object']).columns.tolist()\n",
        "preprocessor = ColumnTransformer(transformers=[\n",
        "    ('cat', OneHotEncoder(), categorical_features)\n",
        "])\n",
        "\n",
        "X_train = preprocessor.fit_transform(X_train)\n",
        "X_test = preprocessor.transform(X_test)\n",
        "\n",
        "# Initialize and fit the RandomForestClassifier model\n",
        "model = RandomForestClassifier(n_estimators=100, random_state=42)\n",
        "model.fit(X_train, y_train)\n",
        "\n",
        "# Evaluate the model using cross-validation and on the test set\n",
        "cv_scores = cross_val_score(model, X_train, y_train, cv=5, scoring='accuracy')\n",
        "print(f\"Cross-validation scores: {cv_scores}\")\n",
        "print(f\"Mean cross-validation score: {cv_scores.mean()}\")\n",
        "\n",
        "y_pred = model.predict(X_test)\n",
        "\n",
        "accuracy = accuracy_score(y_test, y_pred)\n",
        "print(f\"Test set accuracy: {accuracy}\")\n",
        "print(classification_report(y_test, y_pred))"
      ],
      "metadata": {
        "colab": {
          "base_uri": "https://localhost:8080/"
        },
        "id": "WPtWp2ghFYUw",
        "outputId": "6484a59d-19ce-48b5-fafa-7212fa4241a0"
      },
      "execution_count": 121,
      "outputs": [
        {
          "output_type": "stream",
          "name": "stdout",
          "text": [
            "Cross-validation scores: [1. 1. 1. 1. 1.]\n",
            "Mean cross-validation score: 1.0\n",
            "Test set accuracy: 1.0\n",
            "                   precision    recall  f1-score   support\n",
            "\n",
            "    Highly Active       1.00      1.00      1.00         7\n",
            "Moderately Active       1.00      1.00      1.00         9\n",
            "        Sedentary       1.00      1.00      1.00        21\n",
            "\n",
            "         accuracy                           1.00        37\n",
            "        macro avg       1.00      1.00      1.00        37\n",
            "     weighted avg       1.00      1.00      1.00        37\n",
            "\n"
          ]
        }
      ]
    },
    {
      "cell_type": "markdown",
      "source": [
        "##Integration with the Exercise Habit App\n",
        "\n",
        "Use the trained model to predict the exercise cluster for new app users based on their characteristics and preferences.\n",
        "Personalize the app experience and provide exercise recommendations based on the predicted cluster.\n",
        "Collect user feedback and exercise data to continuously improve the model and refine the clustering."
      ],
      "metadata": {
        "id": "zjsxPTAgQx-K"
      }
    },
    {
      "cell_type": "markdown",
      "source": [],
      "metadata": {
        "id": "1FFCttUVmRM6"
      }
    },
    {
      "cell_type": "code",
      "source": [
        "# Import necessary libraries\n",
        "import pandas as pd\n",
        "\n",
        "# Step 1: Enter demographic information\n",
        "age = input(\"Enter your age: \")\n",
        "sex = input(\"Enter your sex: \")\n",
        "race = input(\"Enter your race: \")\n",
        "gender = input(\"Enter your gender: \")\n",
        "comorbidities = input(\"Enter any comorbidities (separated by commas if multiple): \").split(',')\n",
        "\n",
        "# Step 2: Confirm weekly exercise goal\n",
        "weekly_goal = input(\"Confirm your weekly exercise goal (e.g., 150 mins MVPA, plus strength training): \")\n",
        "\n",
        "# Step 3: Preference\n",
        "start_preference = input(\"Do you prefer a gradual start or an immediate goal? \")\n",
        "exercise_variety = input(\"Do you prefer new types of exercise every day or consistency? \")\n",
        "\n",
        "# Step 4: Location of exercise\n",
        "exercise_location = input(\"Where do you plan to exercise (YMCA, Planet Fitness, other gym, home)? \")\n",
        "\n",
        "# Step 5: Select days and times of exercise\n",
        "days_of_exercise = input(\"Select the days of the week you plan to exercise (separated by commas if multiple): \").split(',')\n",
        "times_of_exercise = input(\"Select the times of the day you plan to exercise (separated by commas if multiple): \").split(',')\n",
        "\n",
        "# Step 6: Optional preference of exercise machine\n",
        "exercise_machine_preference = input(\"Enter your preference of exercise machine (e.g., treadmill, elliptical): \")\n",
        "\n",
        "# Step 7: Coordinate exercise buddy\n",
        "exercise_buddy = input(\"Do you want to coordinate/have a potential exercise buddy? \")\n",
        "\n",
        "# Step 8: Create appearance of virtual coach\n",
        "# This step involves more complex graphics and is beyond the scope of this code snippet\n",
        "\n",
        "# Displaying entered information\n",
        "print(\"\\nEntered information:\")\n",
        "print(f\"Age: {age}\")\n",
        "print(f\"Sex: {sex}\")\n",
        "print(f\"Race: {race}\")\n",
        "print(f\"Gender: {gender}\")\n",
        "print(f\"Comorbidities: {comorbidities}\")\n",
        "print(f\"Weekly exercise goal: {weekly_goal}\")\n",
        "print(f\"Start preference: {start_preference}\")\n",
        "print(f\"Exercise variety preference: {exercise_variety}\")\n",
        "print(f\"Exercise location: {exercise_location}\")\n",
        "print(f\"Days of exercise: {days_of_exercise}\")\n",
        "print(f\"Times of exercise: {times_of_exercise}\")\n",
        "print(f\"Exercise machine preference: {exercise_machine_preference}\")\n",
        "print(f\"Exercise buddy coordination: {exercise_buddy}\")\n"
      ],
      "metadata": {
        "colab": {
          "base_uri": "https://localhost:8080/"
        },
        "id": "wKWVdzjNs5DR",
        "outputId": "e4d99cec-3af1-4ab4-ed73-c37af1aa84c4"
      },
      "execution_count": 122,
      "outputs": [
        {
          "output_type": "stream",
          "name": "stdout",
          "text": [
            "Enter your age: 27\n",
            "Enter your sex: female\n",
            "Enter your race: asian\n",
            "Enter your gender: female\n",
            "Enter any comorbidities (separated by commas if multiple): heart disease, diabetes\n",
            "Confirm your weekly exercise goal (e.g., 150 mins MVPA, plus strength training): strength training\n",
            "Do you prefer a gradual start or an immediate goal? gradual start\n",
            "Do you prefer new types of exercise every day or consistency? every day\n",
            "Where do you plan to exercise (YMCA, Planet Fitness, other gym, home)? home\n",
            "Select the days of the week you plan to exercise (separated by commas if multiple): friday, saturday, sunday\n",
            "Select the times of the day you plan to exercise (separated by commas if multiple): 1 \n",
            "Enter your preference of exercise machine (e.g., treadmill, elliptical): elliptical\n",
            "Do you want to coordinate/have a potential exercise buddy? yes\n",
            "\n",
            "Entered information:\n",
            "Age: 27\n",
            "Sex: female\n",
            "Race: asian\n",
            "Gender: female\n",
            "Comorbidities: ['heart disease', ' diabetes']\n",
            "Weekly exercise goal: strength training\n",
            "Start preference: gradual start\n",
            "Exercise variety preference: every day\n",
            "Exercise location: home\n",
            "Days of exercise: ['friday', ' saturday', ' sunday']\n",
            "Times of exercise: ['1 ']\n",
            "Exercise machine preference: elliptical\n",
            "Exercise buddy coordination: yes\n"
          ]
        }
      ]
    },
    {
      "cell_type": "code",
      "source": [
        "import datetime\n",
        "import time\n",
        "\n",
        "# Step 1: Generate cardio and strength training exercises\n",
        "# This step would require a database of exercises and routines, and is beyond the scope of this code snippet\n",
        "\n",
        "# Step 2: User receives notification\n",
        "notification_time = datetime.datetime.now() + datetime.timedelta(minutes=15)  # Notification 15 minutes before exercise session\n",
        "print(f\"Notification: Your exercise session will start at {notification_time.strftime('%H:%M')}.\")\n",
        "\n",
        "# Step 3: User starts recording exercise time\n",
        "input(\"Press 'Enter' to begin recording exercise time.\")\n",
        "\n",
        "# Simulate exercise time recording\n",
        "print(\"Exercise session started.\")\n",
        "time.sleep(120)  # Simulating 2 minutes of exercise time\n",
        "\n",
        "# Step 4: User ends exercise session\n",
        "input(\"Press 'Enter' to end exercise session.\")\n",
        "\n",
        "# Simulate exercise session end\n",
        "print(\"Exercise session ended.\")\n",
        "\n",
        "# Step 5: Checkmark or X on types of exercises used\n",
        "exercise_types = ['Cardio', 'Strength Training']  # List of exercise types\n",
        "print(\"Types of exercises:\")\n",
        "for idx, exercise in enumerate(exercise_types):\n",
        "    print(f\"{idx+1}. {exercise}\")\n",
        "\n",
        "user_input = input(\"Enter the numbers of exercises used (separated by commas if multiple): \")\n",
        "used_exercises = [exercise_types[int(i)-1] for i in user_input.split(',')]\n",
        "\n",
        "# Step 6: Did they use another machine or not exercise?\n",
        "if 'Strength Training' in used_exercises:\n",
        "    additional_machine = input(\"Did you use another machine for strength training? (yes/no) \")\n",
        "    if additional_machine.lower() == 'yes':\n",
        "        additional_machine_used = input(\"Enter the name of the additional machine used: \")\n",
        "        print(f\"Additional machine used: {additional_machine_used}\")\n",
        "    else:\n",
        "        print(\"No additional machine used.\")\n",
        "elif 'Cardio' in used_exercises:\n",
        "    # If only cardio was used, we can ask if the user used any other cardio machine\n",
        "    additional_machine = input(\"Did you use another cardio machine? (yes/no) \")\n",
        "    if additional_machine.lower() == 'yes':\n",
        "        additional_machine_used = input(\"Enter the name of the additional cardio machine used: \")\n",
        "        print(f\"Additional cardio machine used: {additional_machine_used}\")\n",
        "    else:\n",
        "        print(\"No additional cardio machine used.\")\n",
        "\n",
        "# Step 7: Give reward if exercise time goal is met (gamification)\n",
        "exercise_time_goal = 150  # Example exercise time goal in minutes\n",
        "exercise_time = int(input(\"Enter the total exercise time (in minutes): \"))\n",
        "if exercise_time >= exercise_time_goal:\n",
        "    print(\"Congratulations! You've met your exercise time goal.\")\n",
        "    # Provide some reward or feedback for achieving the goal\n",
        "else:\n",
        "    print(\"Keep up the good work! You'll reach your goal with consistency.\")\n"
      ],
      "metadata": {
        "colab": {
          "base_uri": "https://localhost:8080/"
        },
        "id": "NZwb8HRms5GA",
        "outputId": "68254a9e-3d21-4fec-df1b-c2f54fe28ba0"
      },
      "execution_count": 71,
      "outputs": [
        {
          "output_type": "stream",
          "name": "stdout",
          "text": [
            "Notification: Your exercise session will start at 20:44.\n",
            "Press 'Enter' to begin recording exercise time.\n",
            "Exercise session started.\n",
            "Press 'Enter' to end exercise session.\n",
            "Exercise session ended.\n",
            "Types of exercises:\n",
            "1. Cardio\n",
            "2. Strength Training\n",
            "Enter the numbers of exercises used (separated by commas if multiple): 2\n",
            "Did you use another machine for strength training? (yes/no) yes\n",
            "Enter the name of the additional machine used: treadmill\n",
            "Additional machine used: treadmill\n",
            "Enter the total exercise time (in minutes): 30\n",
            "Keep up the good work! You'll reach your goal with consistency.\n"
          ]
        }
      ]
    },
    {
      "cell_type": "code",
      "source": [
        "# Step 5: Integration with the Exercise Habit App\n",
        "# Predict exercise cluster for the new user based on their characteristics and preferences\n",
        "user_data = pd.DataFrame({\n",
        "    'Age': [age],\n",
        "    'Sex': [sex],\n",
        "    'Race': [race],\n",
        "    'Gender': [gender],\n",
        "    'Comorbidities': [', '.join(comorbidities)],\n",
        "    'Weekly_Goal': [weekly_goal],\n",
        "    'Start_Preference': [start_preference],\n",
        "    'Exercise_Variety': [exercise_variety],\n",
        "    'Exercise_Location': [exercise_location],\n",
        "    'Exercise_Machine_Preference': [exercise_machine_preference],\n",
        "    'Exercise_Buddy': [exercise_buddy]\n",
        "})\n"
      ],
      "metadata": {
        "id": "UEQJCqLXGaaO"
      },
      "execution_count": 123,
      "outputs": []
    },
    {
      "cell_type": "code",
      "source": [
        "# Preprocess the user data\n",
        "user_data_encoded = pd.get_dummies(user_data)\n"
      ],
      "metadata": {
        "id": "5X-WlNfGHZAu"
      },
      "execution_count": 124,
      "outputs": []
    },
    {
      "cell_type": "code",
      "source": [
        "# Align the columns of user_data_encoded with the model's feature columns\n",
        "missing_cols = set(X.columns) - set(user_data_encoded.columns)\n",
        "for col in missing_cols:\n",
        "    user_data_encoded[col] = 0\n",
        "user_data_encoded = user_data_encoded[X.columns]"
      ],
      "metadata": {
        "id": "VB-zuoV0HZ1H"
      },
      "execution_count": 125,
      "outputs": []
    },
    {
      "cell_type": "code",
      "source": [
        "# Align the columns of user_data_encoded with the model's feature columns\n",
        "missing_cols = set(X.columns) - set(user_data_encoded.columns)\n",
        "for col in missing_cols:\n",
        "    user_data_encoded[col] = 0\n",
        "user_data_encoded = user_data_encoded[X.columns]\n"
      ],
      "metadata": {
        "id": "RTaCPJgTHcBY"
      },
      "execution_count": 126,
      "outputs": []
    },
    {
      "cell_type": "code",
      "source": [
        "print(\"Features in X:\")\n",
        "print(X.columns)\n",
        "\n",
        "print(\"\\nFeatures in user_data_encoded:\")\n",
        "print(user_data_encoded.columns)"
      ],
      "metadata": {
        "colab": {
          "base_uri": "https://localhost:8080/"
        },
        "id": "e3ii6U_2KnqL",
        "outputId": "ba721a90-e5e1-402b-a962-34cfb0708f94"
      },
      "execution_count": 127,
      "outputs": [
        {
          "output_type": "stream",
          "name": "stdout",
          "text": [
            "Features in X:\n",
            "Index(['NCT Number', 'Conditions', 'Interventions', 'Primary Outcome Measures',\n",
            "       'Secondary Outcome Measures', 'Other Outcome Measures', 'Sex', 'Age',\n",
            "       'Enrollment', 'Other IDs', 'Total number of studies', '1158',\n",
            "       'Unnamed: 2', 'Unnamed: 3', 'Type Intervention', 'Unnamed: 5',\n",
            "       'Total number of patients', 'Cluster'],\n",
            "      dtype='object')\n",
            "\n",
            "Features in user_data_encoded:\n",
            "Index(['NCT Number', 'Conditions', 'Interventions', 'Primary Outcome Measures',\n",
            "       'Secondary Outcome Measures', 'Other Outcome Measures', 'Sex', 'Age',\n",
            "       'Enrollment', 'Other IDs', 'Total number of studies', '1158',\n",
            "       'Unnamed: 2', 'Unnamed: 3', 'Type Intervention', 'Unnamed: 5',\n",
            "       'Total number of patients', 'Cluster'],\n",
            "      dtype='object')\n"
          ]
        }
      ]
    },
    {
      "cell_type": "code",
      "source": [
        "missing_cols = set(X.columns) - set(user_data_encoded.columns)\n",
        "for col in missing_cols:\n",
        "    user_data_encoded[col] = 0"
      ],
      "metadata": {
        "id": "RSWE2rLLLCNj"
      },
      "execution_count": 128,
      "outputs": []
    },
    {
      "cell_type": "code",
      "source": [
        "user_data_encoded = user_data_encoded[X.columns]"
      ],
      "metadata": {
        "id": "bHYcIzj3KvAw"
      },
      "execution_count": 129,
      "outputs": []
    },
    {
      "cell_type": "code",
      "source": [
        "import pandas as pd\n",
        "from scipy.sparse import csr_matrix\n",
        "\n",
        "# Convert X_train from csr_matrix to DataFrame\n",
        "X_train_array = X_train.toarray()  # Convert csr_matrix to array\n",
        "X_train_df = pd.DataFrame(X_train_array)\n",
        "\n",
        "# Truncate columns if necessary\n",
        "if X_train_array.shape[1] > len(X.columns):\n",
        "    X_train_df = X_train_df.iloc[:, :len(X.columns)]\n",
        "    X_train_df.columns = X.columns\n",
        "\n",
        "# Create a new RandomForestClassifier model\n",
        "new_model = RandomForestClassifier(n_estimators=100, random_state=42)\n",
        "\n",
        "# Fit the new model with feature names\n",
        "new_model.fit(X_train_df, y_train)\n",
        "\n",
        "# Predict the exercise cluster for the new user\n",
        "user_cluster = new_model.predict(user_data_encoded)"
      ],
      "metadata": {
        "id": "lt4PlOb3MiNt"
      },
      "execution_count": 130,
      "outputs": []
    },
    {
      "cell_type": "code",
      "source": [
        "# Personalize the app experience based on the predicted cluster\n",
        "if user_cluster == 0:\n",
        "    # Provide recommendations for highly active users\n",
        "    print(\"Based on your profile, you are classified as a highly active user.\")\n",
        "    print(\"Here are some recommended exercises and routines for you:\")\n",
        "    # Provide personalized exercise recommendations for highly active users\n",
        "    # ...\n",
        "\n",
        "elif user_cluster == 1:\n",
        "    # Provide recommendations for moderately active users\n",
        "    print(\"Based on your profile, you are classified as a moderately active user.\")\n",
        "    print(\"Here are some recommended exercises and routines for you:\")\n",
        "    # Provide personalized exercise recommendations for moderately active users\n",
        "    # ...\n",
        "\n",
        "else:\n",
        "    # Provide recommendations for sedentary users\n",
        "    print(\"Based on your profile, you are classified as a sedentary user.\")\n",
        "    print(\"Here are some recommended exercises and routines for you:\")\n",
        "    # Provide personalized exercise recommendations for sedentary users\n",
        "    # ..."
      ],
      "metadata": {
        "colab": {
          "base_uri": "https://localhost:8080/"
        },
        "id": "yd4I3B6kM9SR",
        "outputId": "b8d6913c-5a10-427d-9c5a-4a2e5c0668bb"
      },
      "execution_count": 131,
      "outputs": [
        {
          "output_type": "stream",
          "name": "stdout",
          "text": [
            "Based on your profile, you are classified as a sedentary user.\n",
            "Here are some recommended exercises and routines for you:\n"
          ]
        }
      ]
    },
    {
      "cell_type": "code",
      "source": [
        "# Personalize the app experience based on the predicted cluster and user profile\n",
        "if user_cluster == 0:\n",
        "    # Provide recommendations for highly active users\n",
        "    print(\"Based on your profile, you are classified as a highly active user.\")\n",
        "    print(\"Here are some recommended exercises and routines for you: Consider high-intensity interval training, strength training, and cardiovascular exercises. Adjust intensity based on individual health conditions\")\n",
        "\n",
        "\n",
        "elif user_cluster == 1:\n",
        "    # Provide recommendations for moderately active users\n",
        "    print(\"Based on your profile, you are classified as a moderately active user.\")\n",
        "    print(\"Here are some recommended exercises and routines for you: Include a mix of cardiovascular exercises, strength training, and flexibility exercises. Tailor workout plans to achieve fitness goals effectively\")\n",
        "\n",
        "else:\n",
        "    # Provide recommendations for sedentary users\n",
        "    print(\"Based on your profile, you are classified as a sedentary user.\")\n",
        "    print(\"Here are some recommended exercises and routines for you: Focus on low-impact activities like walking, yoga, or swimming to improve fitness gradually. Emphasize consistency and gradual progression in physical activity\")\n",
        "\n",
        "\n",
        "# Import necessary libraries and define user profiles and usage data as provided in the code snippet\n",
        "\n",
        "# Further code implementation including decision tree model, linear regression, collaborative filtering, and knowledge-based systems can be integrated to enhance personalized exercise recommendations based on user data, preferences, and health considerations.\n",
        "\n",
        "# Ensure to tailor exercise recommendations considering individual fitness levels, goals, age, gender, existing health conditions, and preferences to promote a safe and effective workout routine aligned with established guidelines.\n",
        "\n",
        "# Continuously update and refine exercise recommendations based on user feedback, performance data, and evolving health guidelines to optimize the app experience and support users in achieving their fitness objectives effectively."
      ],
      "metadata": {
        "colab": {
          "base_uri": "https://localhost:8080/"
        },
        "id": "lBHUV9JROEQJ",
        "outputId": "b392fea1-6e88-43c3-e164-9ac486ec119a"
      },
      "execution_count": 132,
      "outputs": [
        {
          "output_type": "stream",
          "name": "stdout",
          "text": [
            "Based on your profile, you are classified as a sedentary user.\n",
            "Here are some recommended exercises and routines for you: Focus on low-impact activities like walking, yoga, or swimming to improve fitness gradually. Emphasize consistency and gradual progression in physical activity\n"
          ]
        }
      ]
    },
    {
      "cell_type": "code",
      "source": [
        "# Generate personalized exercise plan based on user's preferences\n",
        "print(\"\\nPersonalized Exercise Plan:\")\n",
        "print(f\"Weekly Goal: {weekly_goal}\")\n",
        "print(f\"Start Preference: {start_preference}\")\n",
        "print(f\"Exercise Variety: {exercise_variety}\")\n",
        "print(f\"Exercise Location: {exercise_location}\")\n",
        "print(f\"Days of Exercise: {', '.join(days_of_exercise)}\")\n",
        "print(f\"Times of Exercise: {', '.join(times_of_exercise)}\")\n",
        "print(f\"Exercise Machine Preference: {exercise_machine_preference}\")\n",
        "print(f\"Exercise Buddy: {exercise_buddy}\")\n",
        "\n",
        "# Provide personalized exercise recommendations based on the user's cluster and preferences\n",
        "# ...\n",
        "\n",
        "# Simulate exercise session\n",
        "# ...\n",
        "\n",
        "# Provide reward or feedback based on exercise performance\n",
        "# ..."
      ],
      "metadata": {
        "colab": {
          "base_uri": "https://localhost:8080/"
        },
        "id": "8oKymZWxNG-Z",
        "outputId": "3a3e1156-3696-4c5e-c78b-efab7e4ac6b5"
      },
      "execution_count": 133,
      "outputs": [
        {
          "output_type": "stream",
          "name": "stdout",
          "text": [
            "\n",
            "Personalized Exercise Plan:\n",
            "Weekly Goal: strength training\n",
            "Start Preference: gradual start\n",
            "Exercise Variety: every day\n",
            "Exercise Location: home\n",
            "Days of Exercise: friday,  saturday,  sunday\n",
            "Times of Exercise: 1 \n",
            "Exercise Machine Preference: elliptical\n",
            "Exercise Buddy: yes\n"
          ]
        }
      ]
    }
  ]
}